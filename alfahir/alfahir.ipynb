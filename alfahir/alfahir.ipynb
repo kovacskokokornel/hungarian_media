{
 "cells": [
  {
   "cell_type": "code",
   "execution_count": 1,
   "metadata": {},
   "outputs": [],
   "source": [
    "import requests\n",
    "from bs4 import BeautifulSoup\n",
    "from tqdm import tqdm_notebook as tqdm\n",
    "import pickle\n",
    "import sys"
   ]
  },
  {
   "cell_type": "code",
   "execution_count": 2,
   "metadata": {},
   "outputs": [
    {
     "data": {
      "application/vnd.jupyter.widget-view+json": {
       "model_id": "caf42ecc3f7f4f378920561676fbcc25",
       "version_major": 2,
       "version_minor": 0
      },
      "text/plain": [
       "HBox(children=(IntProgress(value=0, max=615), HTML(value='')))"
      ]
     },
     "metadata": {},
     "output_type": "display_data"
    },
    {
     "name": "stdout",
     "output_type": "stream",
     "text": [
      "\n"
     ]
    }
   ],
   "source": [
    "links = []\n",
    "for page_num in tqdm(range(615)):\n",
    "    response = requests.get(f\"https://alfahir.hu/kereso?kereses=%20&from=2019-01-01&to=2019-12-31&field_authors&field_tags&page={page_num}\")\n",
    "    soup = BeautifulSoup(response.content, 'html.parser')\n",
    "    titles = soup.find_all(\"div\", class_=\"field field-name-node-title\")\n",
    "    links.extend([\"https://alfahir.hu\" + title.find(\"a\").get(\"href\") for title in titles])\n",
    "# writing to file\n",
    "with open('links.p', 'wb') as f:\n",
    "    pickle.dump(links, f)"
   ]
  },
  {
   "cell_type": "code",
   "execution_count": 2,
   "metadata": {},
   "outputs": [],
   "source": [
    "# reading from file\n",
    "with open('links.p', 'rb') as f:\n",
    "    links = pickle.load(f)"
   ]
  },
  {
   "cell_type": "code",
   "execution_count": 15,
   "metadata": {},
   "outputs": [
    {
     "data": {
      "application/vnd.jupyter.widget-view+json": {
       "model_id": "d77b9d25cd4f44448c249decbf3ac33f",
       "version_major": 2,
       "version_minor": 0
      },
      "text/plain": [
       "HBox(children=(IntProgress(value=0, max=50), HTML(value='')))"
      ]
     },
     "metadata": {},
     "output_type": "display_data"
    },
    {
     "name": "stdout",
     "output_type": "stream",
     "text": [
      "\n"
     ]
    }
   ],
   "source": [
    "alfa_dict = {}\n",
    "for url in tqdm(links[:50]):\n",
    "    related_urls = []\n",
    "    response = requests.get(url)\n",
    "    soup = BeautifulSoup(response.content, 'html.parser')\n",
    "    date_time = soup.find(\"div\", class_=\"article-dates\").text.replace(\"\\n\", \"\")\n",
    "    body = soup.find(\"div\", class_=\"field field--name-body field--type-text-with-summary field--label-hidden field--item\")\n",
    "    paragraphs = body.find_all(\"p\")\n",
    "    for paragraph in paragraphs:\n",
    "        if \"MTI\" in paragraph.text or \"mti\" in paragraph.text or \"Mti\" in paragraph.text:\n",
    "            related_urls.append(\"MTI\")\n",
    "        if paragraph.find_all(\"a\") is not None:\n",
    "            for link in paragraph.find_all(\"a\"):\n",
    "                if \"http\" in link.get('href'):\n",
    "                    related_urls.append(link.get('href'))\n",
    "                else:\n",
    "                    related_urls.append(\"https:\" + link.get('href'))\n",
    "    alfa_dict[url] = {\n",
    "    \"related_links\" : related_urls,\n",
    "    \"publish_date\" : date_time\n",
    "}"
   ]
  },
  {
   "cell_type": "code",
   "execution_count": 16,
   "metadata": {},
   "outputs": [
    {
     "data": {
      "text/plain": [
       "{'https://alfahir.hu/2019/12/31/tuzijatek_balatonalmadi_polgarmester_allatbarat': {'related_links': [],\n",
       "  'publish_date': '2019. december 31. | 21:30'},\n",
       " 'https://alfahir.hu/2019/12/31/gyilkossag_kobanya_elfogas_edesanya': {'related_links': ['https://index.hu/belfold/2019/12/31/kobanya_emberoles_vercseppek_harmat_utca_bantalmazas/'],\n",
       "  'publish_date': '2019. december 31. | 21:13'},\n",
       " 'https://alfahir.hu/2019/12/31/kepek_szilveszter_buek_20192020': {'related_links': [],\n",
       "  'publish_date': '2019. december 31. | 18:33'},\n",
       " 'https://alfahir.hu/2019/12/31/egyesult_allamok_kina_kereskedelmi_haboru_enyhules': {'related_links': ['MTI'],\n",
       "  'publish_date': '2019. december 31. | 17:42'},\n",
       " 'https://alfahir.hu/2019/12/31/emmi_szinhazak_tagadas_tamogatas': {'related_links': ['MTI'],\n",
       "  'publish_date': '2019. december 31. | 16:41'},\n",
       " 'https://alfahir.hu/2019/12/31/tuzolto_okf_tuzijatek_szilveszter': {'related_links': ['https://www.katasztrofavedelem.hu/29/hirek/225567/hogyan-ne-szilveszterezzunk-a-tuzoltokkal'],\n",
       "  'publish_date': '2019. december 31. | 16:01'},\n",
       " 'https://alfahir.hu/2019/12/31/ausztralia_tuzvesz_aldozat_tuzolto_video': {'related_links': ['https://twitter.com/hashtag/NSWFires?src=hash&ref_src=twsrc%5Etfw',\n",
       "   'https://twitter.com/hashtag/ProtectTheIrreplaceable?src=hash&ref_src=twsrc%5Etfw',\n",
       "   'https://t.co/Hb0yVrefi9',\n",
       "   'https://www.independent.co.uk/news/world/australasia/australia-wildfires-mallacoota-video-victoria-new-south-wales-climate-change-a9265141.html'],\n",
       "  'publish_date': '2019. december 31. | 15:13'},\n",
       " 'https://alfahir.hu/2019/12/31/szinhaztorveny_fuggetlen_szinhaz_kasler_miklos_fekete_peter': {'related_links': ['https://magyarkozlony.hu/hivatalos-lapok/aKxb0hNCmzf5LMHcU0CC5e05eb927a5c2/dokumentumok/ec06d883a1ffd2f988667454eba2cabfc5f27a36/letoltes)',\n",
       "   'https://hvg.hu/itthon/20191231_Megis_kiverezteti_a_fuggetlen_szinhazakat_a_kormany_egy_ejjel_hozott_rendeletmodositassal',\n",
       "   'MTI',\n",
       "   'MTI'],\n",
       "  'publish_date': '2019. december 31. | 14:49'},\n",
       " 'https://alfahir.hu/2019/12/31/egyesult_allamok_irak_nagykovetseg_tuntetes_legi_csapas': {'related_links': [],\n",
       "  'publish_date': '2019. december 31. | 13:59'},\n",
       " 'https://alfahir.hu/2019/12/31/sneider_tamas_evertekelo_nemzetpolitika_interju': {'related_links': ['https://delhir.info/2019/12/31/118914/',\n",
       "   'https://karpathir.com/2019/12/30/mi-mindig-a-kulhoni-magyarok-szovetsegesei-leszunk/',\n",
       "   'https://www.itthon.ma/mi-mindig-a-kulhoni-magyarok-szovetsegesei-leszunk-nagyinterju-sneider-tamassal-a-jobbik-elnokevel/'],\n",
       "  'publish_date': '2019. december 31. | 13:35'},\n",
       " 'https://alfahir.hu/2019/12/31/atletikai_vilagbajnoksag_karacsony_gergely_budapest_kormany_feltetelek': {'related_links': ['https://magyarkozlony.hu/dokumentumok/ec06d883a1ffd2f988667454eba2cabfc5f27a36/megtekintes'],\n",
       "  'publish_date': '2019. december 31. | 11:54'},\n",
       " 'https://alfahir.hu/2019/12/31/omsz_mentok_mentoauto_szilveszter_pirotechnikai_eszkozok': {'related_links': [],\n",
       "  'publish_date': '2019. december 31. | 11:23'},\n",
       " 'https://alfahir.hu/2019/12/31/2019_borkai_orgia_rendori_fizetes_vendegmunkasok_szavazatvasarlas_izomsorvadas': {'related_links': ['https://www.facebook.com/AlfahirHirportal/',\n",
       "   'https://www.facebook.com/nemzetitv/',\n",
       "   'MTI'],\n",
       "  'publish_date': '2019. december 31. | 10:24'},\n",
       " 'https://alfahir.hu/2019/12/31/civil_rendorauto_balesetmegelozes_ellenorzes_sorozat_szabalysertok': {'related_links': [],\n",
       "  'publish_date': '2019. december 31. | 10:14'},\n",
       " 'https://alfahir.hu/2019/12/31/orban_viktor_demjen_ferenc_2019_evzaro': {'related_links': [],\n",
       "  'publish_date': '2019. december 31. | 08:43'},\n",
       " 'https://alfahir.hu/2019/12/31/rig_lajos_2019_interju_sma': {'related_links': ['https://alfahir.hu/2019/10/29/zente_sma_gyogykezeles',\n",
       "   'https://alfahir.hu/2019/04/10/gerincbeteg_sma_rig_lajos_egeszsegugy'],\n",
       "  'publish_date': '2019. december 31. | 08:07'},\n",
       " 'https://alfahir.hu/2019/12/31/ujev_szilveszter_2020_tomegkozlekedes': {'related_links': ['https://bkk.hu/2019/12/kozlekedes-budapesten-az-ev-vegi-unnepek-idejen-szilveszterkor-egesz-ejszaka-jarnak-a-metrok/',\n",
       "   'MTI'],\n",
       "  'publish_date': '2019. december 31. | 07:42'},\n",
       " 'https://alfahir.hu/2019/12/30/bayer_zsolt_schmidt_maria_klimavaltozas_fiatalok_fidesz': {'related_links': ['MTI',\n",
       "   'https://www.youtube.com/watch?v=gboTwEW3Y6o'],\n",
       "  'publish_date': '2019. december 30. | 21:13'},\n",
       " 'https://alfahir.hu/2019/12/30/katalonia_spanyolorszag_europai_parlament_oriol_junqueras': {'related_links': ['MTI'],\n",
       "  'publish_date': '2019. december 30. | 18:20'},\n",
       " 'https://alfahir.hu/2019/12/30/minimalber_emeles_szakszervezetek_gazdasag_varga_mihaly': {'related_links': [],\n",
       "  'publish_date': '2019. december 30. | 16:29'},\n",
       " 'https://alfahir.hu/2019/12/30/szlovakia_jan_kuciak_itelet': {'related_links': ['MTI'],\n",
       "  'publish_date': '2019. december 30. | 16:02'},\n",
       " 'https://alfahir.hu/2019/12/30/recenzio_sorkatonasag_cser_kiado_szovjetunio_romania_csehszlovakia_magyarorszag': {'related_links': [],\n",
       "  'publish_date': '2019. december 30. | 15:35'},\n",
       " 'https://alfahir.hu/2019/12/30/europai_unio_nemetorszag_kelet_kozep_europa_franciaorszag_boris_kalnoky': {'related_links': ['https://www.dw.com/de/gastkommentar-wird-2020-die-kontinental-eu-geboren/a-51726349'],\n",
       "  'publish_date': '2019. december 30. | 14:40'},\n",
       " 'https://alfahir.hu/2019/12/30/gyongyosi_marton_jobbik_fidesz_europai_unio_orban_viktor': {'related_links': ['MTI'],\n",
       "  'publish_date': '2019. december 30. | 13:09'},\n",
       " 'https://alfahir.hu/2019/12/30/sebastian_kurz_werner_kogler_ausztria_koalicio_kormanyalakitas': {'related_links': ['https://alfahir.hu/2019/12/29/ausztria_zoldek_osztrak_neppart_sebastian_kurz',\n",
       "   'https://kurier.at/politik/inland/countdown-zu-tuerkis-gruen-ministerliste-und-koalitionspakt-schon-diese-woche/400713840',\n",
       "   'https://www.derstandard.at/story/2000112740297/tuerkis-gruene-koalition-steht-wohl-anfang-jaenner',\n",
       "   'https://www.krone.at/2069560',\n",
       "   'https://www.krone.at/2069785',\n",
       "   'https://www.facebook.com/strache/posts/10221577979698620',\n",
       "   'https://www.krone.at/2069611'],\n",
       "  'publish_date': '2019. december 30. | 11:54'},\n",
       " 'https://alfahir.hu/2019/12/30/hernadi_zsolt_mol_ina_ivo_sanader_horvatorszag': {'related_links': ['MTI',\n",
       "   'MTI'],\n",
       "  'publish_date': '2019. december 30. | 11:33'},\n",
       " 'https://alfahir.hu/2019/12/30/evertekelo_belpolitika_kulpolitika_orban_kormany_ellenzek': {'related_links': [],\n",
       "  'publish_date': '2019. december 30. | 10:21'},\n",
       " 'https://alfahir.hu/2019/12/30/sni_diakok_gyogypedagogus_neveles': {'related_links': ['MTI'],\n",
       "  'publish_date': '2019. december 30. | 09:55'},\n",
       " 'https://alfahir.hu/2019/12/30/simonka_gyorgy_fidesz_rendorseg_ugyeszseg_vagyontargyak': {'related_links': ['https://24.hu/belfold/2019/12/30/simonka-gyorgy-fidesz-vad-vagyonzar/'],\n",
       "  'publish_date': '2019. december 30. | 09:47'},\n",
       " 'https://alfahir.hu/2019/12/30/antonio_guterres_ensz_fiatalok_klimavaltozas': {'related_links': ['MTI'],\n",
       "  'publish_date': '2019. december 30. | 08:49'},\n",
       " 'https://alfahir.hu/2019/12/30/evertekelo_ellenzek_fidesz_demokratikus_koalicio_jobbik_generaciovaltas': {'related_links': ['https://alfahir.hu/2019/01/31/ellenzek_rendszerdefiniciok_rezsimvita_orban_rendszer_politika_politikatudomany',\n",
       "   'https://alfahir.hu/2019/12/29/jakab_peter_sumeg_fidesz_jobbik_vlog',\n",
       "   'https://alfahir.hu/2018/08/29/ellenzek_ungar_peter_ungvary_krisztian_gyongyosi_marton_jobbik_lmp_orban_viktor',\n",
       "   'https://magyarhang.org/publicisztika/iroolvaso/2019/12/07/az-egyuttmukodes-alap-a-generaciovaltas-szuksegszeru/'],\n",
       "  'publish_date': '2019. december 30. | 08:22'},\n",
       " 'https://alfahir.hu/2019/12/29/texas_templom_lovoldozes': {'related_links': ['https://t.co/NdZ5GTCg5a',\n",
       "   'MTI'],\n",
       "  'publish_date': '2019. december 29. | 21:40'},\n",
       " 'https://alfahir.hu/2019/12/29/ageizmus_maroth_miklos_georg_spottle_generaciok': {'related_links': ['https://pestisracok.hu/maroth-miklos-professzor-a-multikulti-hatasa-alatt-allo-fiatalok-alomvilagban-elnek-es-nagyon-hiszekenyek-ps-interju/'],\n",
       "  'publish_date': '2019. december 29. | 20:00'},\n",
       " 'https://alfahir.hu/2019/12/29/f1_forma_1_weber_gabor_mercedes_red_bull_ferrari_charles_leclerc_sebastian_vettel_lewis': {'related_links': ['https://alfahir.hu/2017/03/01/weber_gabor_formula_1_interju_f1'],\n",
       "  'publish_date': '2019. december 29. | 19:59'},\n",
       " 'https://alfahir.hu/2019/12/29/gazdasag_gazdasagvedelmi_akcioterv_valsag': {'related_links': ['MTI',\n",
       "   'MTI',\n",
       "   'MTI'],\n",
       "  'publish_date': '2019. december 29. | 19:03'},\n",
       " 'https://alfahir.hu/2019/12/29/jakab_peter_jobbik_vlog_2019': {'related_links': [],\n",
       "  'publish_date': '2019. december 29. | 18:11'},\n",
       " 'https://alfahir.hu/2019/12/29/kassai_viktor_jatekvezeto': {'related_links': ['https://jatekvezetes.mlsz.hu/hir/uj-kihivasokra-koncentral-a-jatekvezetokent-visszavonulo-kassai-viktor'],\n",
       "  'publish_date': '2019. december 29. | 17:44'},\n",
       " 'https://alfahir.hu/2019/12/29/szalamandrak_allatvedelem_termeszetvedelem_budapest': {'related_links': ['https://www.peticiok.com/nagy_veszelyben_a_szomszedaink_a_foltos_szalamandrak?fbclid=IwAR3LPTT6hZs6yfXhsWJUe5B0Md2T73CF4sPpq-RSF1Z-8UneMjKXHIVfaWs'],\n",
       "  'publish_date': '2019. december 29. | 17:11'},\n",
       " 'https://alfahir.hu/2019/12/29/romania_egeszsegugy': {'related_links': ['https://www.maszol.ro/index.php/tarsadalom/120451-langra-lobbant-m-tet-kozben-a-paciens-egy-bukaresti-korhazban'],\n",
       "  'publish_date': '2019. december 29. | 16:04'},\n",
       " 'https://alfahir.hu/2019/12/29/ausztria_zoldek_osztrak_neppart_sebastian_kurz': {'related_links': ['https://www.politico.eu/article/austria-ready-to-form-new-conservative-green-government-sebastian-kurz/?sfns=mo'],\n",
       "  'publish_date': '2019. december 29. | 15:15'},\n",
       " 'https://alfahir.hu/2019/12/29/orosz_bernadett_varga_judit_gellen_marton_igazsagugyi_miniszterium_csaladonbeluli': {'related_links': ['MTI',\n",
       "   'https://alfahir.hu/2019/12/20/orosz_bernadett_varga_judit_igazsagugyi_miniszter_kapcsolati_eroszak_csaladon_beluli',\n",
       "   'MTI',\n",
       "   'MTI',\n",
       "   'MTI'],\n",
       "  'publish_date': '2019. december 29. | 15:00'},\n",
       " 'https://alfahir.hu/2019/12/29/klimavaltozas_kozteve_klimavalsag': {'related_links': ['https://alfahir.hu/2019/12/03/szen_nunkovics_tibor_schanda_tamas_latorcai_janos_fidesz_klimavaltozas_jobbik_kdnp'],\n",
       "  'publish_date': '2019. december 29. | 13:28'},\n",
       " 'https://alfahir.hu/2019/12/29/kallo_gergely_rajta_ujvaros_jobbik_suru_renata_ellenzek_pinter_tamas_idokozi_valasztas': {'related_links': ['https://alfahir.hu/2019/12/28/dunaujvaros_valasztas_kallo_gergely_suru_renata'],\n",
       "  'publish_date': '2019. december 29. | 12:21'},\n",
       " 'https://alfahir.hu/2019/12/29/jakab_peter_sumeg_fidesz_jobbik_vlog': {'related_links': ['https://index.hu/belfold/2019/12/29/remete_jozsef_sumeg_faszszopo_komment_jakab_peter/',\n",
       "   'https://alfahir.hu/2019/12/27/jakab_peter_jobbik_evertekelo'],\n",
       "  'publish_date': '2019. december 29. | 11:30'},\n",
       " 'https://alfahir.hu/2019/12/29/nyugdij_retvari_bence_jakab_peter_jobbik_nyugdijpremium_szegenysegi_kuszob': {'related_links': ['https://mfor.hu/cikkek/makro/ujabb-csucsot-dont-a-szegenyseg-egyre-tobb-magyar-nyugdijas-nyomorog.html',\n",
       "   'https://alfahir.hu/2019/09/24/nyugdijas_szegenyseg_idosek',\n",
       "   'MTI',\n",
       "   'https:/sites/default/files/inline-files/08451.pdf',\n",
       "   'https:/sites/default/files/inline-files/08451-0001.pdf',\n",
       "   'MTI'],\n",
       "  'publish_date': '2019. december 29. | 10:57'},\n",
       " 'https://alfahir.hu/2019/12/29/baleset_usa_kod_kamion': {'related_links': ['https://hvg.hu/cegauto/20191229_Pont_a_tevesek_elott_erkezett_a_kodben_a_kamion__video'],\n",
       "  'publish_date': '2019. december 29. | 09:44'},\n",
       " 'https://alfahir.hu/2019/12/29/elarult_polgarosodas_jobboldal_konzervativ_magyar_hang_palinkas_jozsef': {'related_links': [],\n",
       "  'publish_date': '2019. december 29. | 09:08'},\n",
       " 'https://alfahir.hu/2019/12/29/hos_utca_pszichoaktiv_drog_herbal_rendorseg_bunozes_kabitoszer': {'related_links': ['https://alfahir.hu/2018/09/12/budapest_hos_utca_drogterjesztes_kabitoszer_kabitoszer_kereskedelem_bunugy_rendorseg',\n",
       "   'https://alfahir.hu/2018/08/25/hos_utca_getto_ingatlanarak_pillango_park_zuglo_drogosok',\n",
       "   'https://alfahir.hu/mit_lehet_itt_csinalni_egyebkent_iszakos_szulok_kabszeres_fiatalok_a_leszakado_magyarorszagon',\n",
       "   'https://alfahir.hu/2019/07/14/drog_dizajnerdrogok_miskolc',\n",
       "   'http://www.police.hu/hu/hirek-es-informaciok/legfrissebb-hireink/bunugyek/bunszovetsegben-arultak-varazsdohanyt'],\n",
       "  'publish_date': '2019. december 29. | 08:52'},\n",
       " 'https://alfahir.hu/2019/12/29/szilveszter_petarda_orpheus_allatvedo_egyesulet_allatvedok': {'related_links': ['MTI'],\n",
       "  'publish_date': '2019. december 29. | 08:15'},\n",
       " 'https://alfahir.hu/2019/12/28/ii_erzsebet_holokauszt_brit_birodalom': {'related_links': ['MTI'],\n",
       "  'publish_date': '2019. december 28. | 21:43'}}"
      ]
     },
     "execution_count": 16,
     "metadata": {},
     "output_type": "execute_result"
    }
   ],
   "source": [
    "alfa_dict"
   ]
  },
  {
   "cell_type": "code",
   "execution_count": null,
   "metadata": {},
   "outputs": [],
   "source": []
  }
 ],
 "metadata": {
  "kernelspec": {
   "display_name": "Python 3",
   "language": "python",
   "name": "python3"
  },
  "language_info": {
   "codemirror_mode": {
    "name": "ipython",
    "version": 3
   },
   "file_extension": ".py",
   "mimetype": "text/x-python",
   "name": "python",
   "nbconvert_exporter": "python",
   "pygments_lexer": "ipython3",
   "version": "3.7.4"
  }
 },
 "nbformat": 4,
 "nbformat_minor": 2
}
