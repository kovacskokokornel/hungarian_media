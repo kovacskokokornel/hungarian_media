{
 "cells": [
  {
   "cell_type": "code",
   "execution_count": 1,
   "metadata": {},
   "outputs": [],
   "source": [
    "import requests\n",
    "from bs4 import BeautifulSoup\n",
    "from tqdm import tqdm_notebook as tqdm\n",
    "import pickle"
   ]
  },
  {
   "cell_type": "code",
   "execution_count": 2,
   "metadata": {},
   "outputs": [
    {
     "data": {
      "application/vnd.jupyter.widget-view+json": {
       "model_id": "ece9d71cb9e94185b6adcb3badc475ed",
       "version_major": 2,
       "version_minor": 0
      },
      "text/plain": [
       "HBox(children=(IntProgress(value=0, max=222), HTML(value='')))"
      ]
     },
     "metadata": {},
     "output_type": "display_data"
    },
    {
     "name": "stdout",
     "output_type": "stream",
     "text": [
      "\n"
     ]
    }
   ],
   "source": [
    "links = []\n",
    "for page_num in tqdm(range(222)):\n",
    "    response = requests.get(f\"https://www.magyaridok.hu/page/{page_num + 1}/?after=2019-01-01&author&before=2019-12-31&category=0&s=+\")\n",
    "    soup = BeautifulSoup(response.content, 'html.parser')\n",
    "    titles = soup.select(\"#left-area h2\")\n",
    "    links.extend([title.find(\"a\").get(\"href\") for title in titles])\n",
    "with open('links.p', 'wb') as f:\n",
    "    pickle.dump(links, f)"
   ]
  },
  {
   "cell_type": "code",
   "execution_count": 13,
   "metadata": {},
   "outputs": [],
   "source": [
    "with open('links.p', 'rb') as f:\n",
    "    links = pickle.load(f)"
   ]
  },
  {
   "cell_type": "code",
   "execution_count": 14,
   "metadata": {},
   "outputs": [
    {
     "data": {
      "application/vnd.jupyter.widget-view+json": {
       "model_id": "f0a4687916284987ab708c354ce3a72c",
       "version_major": 2,
       "version_minor": 0
      },
      "text/plain": [
       "HBox(children=(IntProgress(value=0, max=4429), HTML(value='')))"
      ]
     },
     "metadata": {},
     "output_type": "display_data"
    }
   ],
   "source": [
    "magyar_idok_dict = {}\n",
    "for link in tqdm(links):\n",
    "    response = requests.get(link)\n",
    "    if response.status_code == 200:\n",
    "        related_urls = []\n",
    "        soup = BeautifulSoup(response.content, 'html.parser')\n",
    "        datetime = soup.find(\"div\", {\"class\": \"en-article-dates\"}).text.replace(\"\\n\", \"\")\n",
    "        author = soup.find(\"div\", {\"class\": \"articleSourceAndAuthor\"}).text.replace(\"\\n\", \"\").replace(\"\\t\", \"\")\n",
    "        if \"MTI\" in author:\n",
    "            related_urls.append(\"MTI\")\n",
    "        paragraphs = soup.find(\"div\", {\"class\": \"entry-content clearfix\"}).find_all(\"p\")\n",
    "        for paragraph in paragraphs:\n",
    "            if \"MTI\" in paragraph.text or \"mti\" in paragraph.text or \"Mti\" in paragraph.text:\n",
    "                related_urls.append(\"MTI\")\n",
    "            if paragraph.find_all(\"a\") is not None:\n",
    "                for link in paragraph.find_all(\"a\"):\n",
    "                    if \"http\" in link.get('href'):\n",
    "                        related_urls.append(link.get('href'))\n",
    "                    else:\n",
    "                        related_urls.append(\"https:\" + link.get('href'))\n",
    "\n",
    "        magyar_idok_dict[link] = {\n",
    "        \"related_links\" : related_urls,\n",
    "        \"publish_date\" : datetime\n",
    "    }\n",
    "    else:\n",
    "        print(link)"
   ]
  },
  {
   "cell_type": "code",
   "execution_count": 10,
   "metadata": {},
   "outputs": [],
   "source": [
    "import sys\n",
    "sys.setrecursionlimit(50000)"
   ]
  },
  {
   "cell_type": "code",
   "execution_count": 15,
   "metadata": {},
   "outputs": [],
   "source": [
    "with open('magyar_idok_dict.p', 'wb') as f:\n",
    "    pickle.dump(magyar_idok_dict, f)"
   ]
  },
  {
   "cell_type": "code",
   "execution_count": null,
   "metadata": {},
   "outputs": [],
   "source": [
    "f"
   ]
  },
  {
   "cell_type": "code",
   "execution_count": 22,
   "metadata": {},
   "outputs": [
    {
     "name": "stdout",
     "output_type": "stream",
     "text": [
      "6\n",
      "7\n",
      "6\n",
      "6\n",
      "7\n",
      "6\n",
      "6\n",
      "6\n",
      "7\n",
      "8\n",
      "8\n"
     ]
    }
   ],
   "source": [
    "for key in magyar_idok_dict:\n",
    "    if len(magyar_idok_dict[key][\"related_links\"]) > 5:\n",
    "        print(len(magyar_idok_dict[key][\"related_links\"]))"
   ]
  },
  {
   "cell_type": "code",
   "execution_count": 8,
   "metadata": {},
   "outputs": [
    {
     "data": {
      "text/plain": [
       "4414"
      ]
     },
     "execution_count": 8,
     "metadata": {},
     "output_type": "execute_result"
    }
   ],
   "source": [
    "len(magyar_idok_dict)"
   ]
  },
  {
   "cell_type": "code",
   "execution_count": null,
   "metadata": {},
   "outputs": [],
   "source": []
  }
 ],
 "metadata": {
  "kernelspec": {
   "display_name": "Python 3",
   "language": "python",
   "name": "python3"
  },
  "language_info": {
   "codemirror_mode": {
    "name": "ipython",
    "version": 3
   },
   "file_extension": ".py",
   "mimetype": "text/x-python",
   "name": "python",
   "nbconvert_exporter": "python",
   "pygments_lexer": "ipython3",
   "version": "3.7.3"
  }
 },
 "nbformat": 4,
 "nbformat_minor": 2
}
