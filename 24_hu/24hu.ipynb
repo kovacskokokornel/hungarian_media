{
 "cells": [
  {
   "cell_type": "code",
   "execution_count": 8,
   "metadata": {},
   "outputs": [],
   "source": [
    "import requests\n",
    "import pandas as pd\n",
    "import json\n",
    "from bs4 import BeautifulSoup\n",
    "import pickle\n",
    "from tqdm import tqdm_notebook as tqdm"
   ]
  },
  {
   "cell_type": "code",
   "execution_count": 2,
   "metadata": {},
   "outputs": [],
   "source": [
    "page_types = [\n",
    "    \"https://24.hu/tech/\",\n",
    "    \"https://24.hu/szorakozas/\",\n",
    "    \"https://24.hu/kultura/\",\n",
    "    \"https://24.hu/fn/uzleti-tippek/\",\n",
    "    \"https://24.hu/fn/gazdasag/\",\n",
    "    \"https://24.hu/kulfold/\",\n",
    "    \"https://24.hu/kozelet/\",\n",
    "    \"https://24.hu/belfold/\",\n",
    "    \"https://24.hu/tudomany/\",\n",
    "    \"https://24.hu/kistotal/\",\n",
    "    \"https://24.hu/velemeny/\",\n",
    "    \"https://24.hu/szorakozas/\",\n",
    "    \"https://24.hu/otthon/\",\n",
    "    \"https://24.hu/elet-stilus/\",\n",
    "    \"https://24.hu/sport/\"\n",
    "]"
   ]
  },
  {
   "cell_type": "code",
   "execution_count": 10,
   "metadata": {
    "scrolled": true
   },
   "outputs": [
    {
     "data": {
      "application/vnd.jupyter.widget-view+json": {
       "model_id": "2d320987ea1b4e7cad72274e06770303",
       "version_major": 2,
       "version_minor": 0
      },
      "text/plain": [
       "HBox(children=(IntProgress(value=0, max=2), HTML(value='')))"
      ]
     },
     "metadata": {},
     "output_type": "display_data"
    },
    {
     "data": {
      "application/vnd.jupyter.widget-view+json": {
       "model_id": "5c64d347ca6242e0908fd1db4ab171b6",
       "version_major": 2,
       "version_minor": 0
      },
      "text/plain": [
       "HBox(children=(IntProgress(value=0, max=234), HTML(value='')))"
      ]
     },
     "metadata": {},
     "output_type": "display_data"
    },
    {
     "name": "stdout",
     "output_type": "stream",
     "text": [
      "502\n",
      "502\n",
      "502\n",
      "502\n",
      "502\n",
      "502\n",
      "502\n",
      "502\n",
      "502\n"
     ]
    },
    {
     "data": {
      "application/vnd.jupyter.widget-view+json": {
       "model_id": "d7a43e064c2443d4838c6dc22f48e4b6",
       "version_major": 2,
       "version_minor": 0
      },
      "text/plain": [
       "HBox(children=(IntProgress(value=0, max=23), HTML(value='')))"
      ]
     },
     "metadata": {},
     "output_type": "display_data"
    }
   ],
   "source": [
    "hu24_dict = {}\n",
    "for page_type in tqdm(page_types[13:]):\n",
    "    response = requests.get(page_type)\n",
    "    soup = BeautifulSoup(response.text, 'html.parser')\n",
    "    try:\n",
    "        maxpage = int([page_num.text for page_num in soup.find_all('a', class_='page-numbers')][1].replace(\",\",\"\"))\n",
    "    except:\n",
    "        maxpage = 2\n",
    "    if maxpage > 800:\n",
    "        maxpage = int(maxpage / 14)\n",
    "    for page_number in tqdm(range(1, maxpage)): ### ezt kellene majd átírni maxpage-re\n",
    "        page_link = page_type + f\"page/{page_number}\"\n",
    "        response = requests.get(page_link)\n",
    "        soup = BeautifulSoup(response.text, 'html.parser')\n",
    "        articles = soup.select(\".m-entryPost__link\")\n",
    "        articles = [article.get(\"href\") for article in articles]\n",
    "        \n",
    "        for article in articles:\n",
    "            response = requests.get(article)\n",
    "            if response.status_code == 200:\n",
    "                soup = BeautifulSoup(response.text, 'html.parser')\n",
    "                date = soup.find('div', class_='m-author__wrapCatDateTitulus').text.replace(\"\\t\", \"\").replace(\"\\n\",\"\")\n",
    "                paragraphs = soup.select(\".post-body p\")\n",
    "\n",
    "                related_urls = []\n",
    "                for paragraph in paragraphs:\n",
    "                    if \"MTI\" in paragraph.text or \"mti\" in paragraph.text or \"Mti\" in paragraph.text:\n",
    "                        related_urls.append(\"MTI\")\n",
    "                    if paragraph.find_all(\"a\") is not None:\n",
    "                        for link in paragraph.find_all(\"a\"):\n",
    "                            try:\n",
    "                                if \"http\" in link.get('href'):\n",
    "                                    related_urls.append(link.get('href'))\n",
    "                                else:\n",
    "                                    related_urls.append(\"https:\" + link.get('href'))\n",
    "                            except:\n",
    "                                print(article)\n",
    "                hu24_dict[article] = {\n",
    "                        \"related_links\" : related_urls,\n",
    "                        \"publish_date\" : date\n",
    "                        #\"last_modification_date\" : dik[0][\"_mod_ts\"]\n",
    "                    }\n",
    "            else:\n",
    "                print(response.status_code)"
   ]
  },
  {
   "cell_type": "code",
   "execution_count": 11,
   "metadata": {},
   "outputs": [],
   "source": [
    "with open('hu24_dict_2.p', 'wb') as f:\n",
    "    pickle.dump(hu24_dict, f)"
   ]
  },
  {
   "cell_type": "code",
   "execution_count": 13,
   "metadata": {},
   "outputs": [],
   "source": [
    "with open('hu24_dict.p', 'rb') as f:\n",
    "    hu24_dict_1 = pickle.load(f)"
   ]
  },
  {
   "cell_type": "code",
   "execution_count": 15,
   "metadata": {},
   "outputs": [],
   "source": [
    "hu24_dict_1.update(hu24_dict)"
   ]
  },
  {
   "cell_type": "code",
   "execution_count": 16,
   "metadata": {},
   "outputs": [],
   "source": [
    "with open('hu24_dict_3.p', 'wb') as f:\n",
    "    pickle.dump(hu24_dict_1, f)"
   ]
  },
  {
   "cell_type": "code",
   "execution_count": null,
   "metadata": {},
   "outputs": [],
   "source": []
  }
 ],
 "metadata": {
  "kernelspec": {
   "display_name": "Python 3",
   "language": "python",
   "name": "python3"
  },
  "language_info": {
   "codemirror_mode": {
    "name": "ipython",
    "version": 3
   },
   "file_extension": ".py",
   "mimetype": "text/x-python",
   "name": "python",
   "nbconvert_exporter": "python",
   "pygments_lexer": "ipython3",
   "version": "3.7.3"
  }
 },
 "nbformat": 4,
 "nbformat_minor": 2
}
