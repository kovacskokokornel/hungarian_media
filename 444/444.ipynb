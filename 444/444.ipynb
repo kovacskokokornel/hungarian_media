{
 "cells": [
  {
   "cell_type": "code",
   "execution_count": 1,
   "metadata": {},
   "outputs": [],
   "source": [
    "import requests\n",
    "import pandas as pd\n",
    "import json\n",
    "from bs4 import BeautifulSoup\n",
    "from tqdm import tqdm_notebook as tqdm"
   ]
  },
  {
   "cell_type": "code",
   "execution_count": null,
   "metadata": {},
   "outputs": [
    {
     "data": {
      "application/vnd.jupyter.widget-view+json": {
       "model_id": "e3df9cfafa1143dd98c79fd0b6439f1e",
       "version_major": 2,
       "version_minor": 0
      },
      "text/plain": [
       "HBox(children=(IntProgress(value=0, max=334), HTML(value='')))"
      ]
     },
     "metadata": {},
     "output_type": "display_data"
    }
   ],
   "source": [
    "dict_444 = {}\n",
    "for i in tqdm(range(41,375)):\n",
    "    page = f\"https://444.hu/archivum?page={i}\"\n",
    "    soup = BeautifulSoup(requests.get(page).text, 'html.parser')\n",
    "    articles = [article.get(\"href\") for article in soup.select(\"h3 a\")]\n",
    "    for article in articles:\n",
    "        try:\n",
    "            soup = BeautifulSoup(requests.get(article).text, 'html.parser')\n",
    "            author = soup.find(\"span\", {\"class\":\"byline__authors\"}).text.replace(\"\\n\", \"\").replace(\"\\t\", \"\").replace(\"\\r\", \"\")\n",
    "            publish_date = soup.select(\"span:nth-child(5)\")[0].text.replace(\"\\n\", \"\").replace(\"\\t\", \"\").replace(\"\\r\", \"\")\n",
    "\n",
    "            paragraphs = soup.find(\"article\").find_all(\"p\")\n",
    "            related_urls = []\n",
    "            for paragraph in paragraphs:\n",
    "                if \"MTI\" in paragraph.text or \"mti\" in paragraph.text or \"Mti\" in paragraph.text:\n",
    "                    related_urls.append(\"MTI\")\n",
    "                if paragraph.find_all(\"a\") is not None:\n",
    "                    for link in paragraph.find_all(\"a\"):\n",
    "                        if \"http\" in link.get('href'):\n",
    "                            related_urls.append(link.get('href'))\n",
    "                        else:\n",
    "                            related_urls.append(\"https:\" + link.get('href'))\n",
    "\n",
    "            dict_444[article] = {\n",
    "                \"related_links\" : related_urls,\n",
    "                \"author\" : author,\n",
    "                \"publish_date\" : publish_date\n",
    "            }\n",
    "        except:\n",
    "            print(article)"
   ]
  },
  {
   "cell_type": "code",
   "execution_count": null,
   "metadata": {},
   "outputs": [],
   "source": []
  }
 ],
 "metadata": {
  "kernelspec": {
   "display_name": "Python 3",
   "language": "python",
   "name": "python3"
  },
  "language_info": {
   "codemirror_mode": {
    "name": "ipython",
    "version": 3
   },
   "file_extension": ".py",
   "mimetype": "text/x-python",
   "name": "python",
   "nbconvert_exporter": "python",
   "pygments_lexer": "ipython3",
   "version": "3.7.4"
  }
 },
 "nbformat": 4,
 "nbformat_minor": 2
}
