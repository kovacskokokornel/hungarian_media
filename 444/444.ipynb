{
 "cells": [
  {
   "cell_type": "code",
   "execution_count": 4,
   "metadata": {},
   "outputs": [],
   "source": [
    "import requests\n",
    "import pandas as pd\n",
    "import json\n",
    "from bs4 import BeautifulSoup\n",
    "from tqdm import tqdm_notebook as tqdm\n",
    "import pickle"
   ]
  },
  {
   "cell_type": "code",
   "execution_count": 2,
   "metadata": {},
   "outputs": [
    {
     "data": {
      "application/vnd.jupyter.widget-view+json": {
       "model_id": "7319bc20bf1d4cc198f9ecb060d28db5",
       "version_major": 2,
       "version_minor": 0
      },
      "text/plain": [
       "HBox(children=(IntProgress(value=0, max=334), HTML(value='')))"
      ]
     },
     "metadata": {},
     "output_type": "display_data"
    },
    {
     "name": "stdout",
     "output_type": "stream",
     "text": [
      "https://444.hu/2019/11/19/walesmagyarorszag\n",
      "https://444.hu/2019/11/11/szaros-fuvet-legelo-szarvasmarhakhoz-hasonlitotta-az-ellenzekre-szavazokat-a-szekszardi-fideszes\n",
      "https://444.hu/2019/10/31/csendben-csinalja-de-mar-nyakig-benne-van-a-magyar-kormany-a-huawei-haboruban\n",
      "https://444.hu/2019/10/29/egyre-kedvezobb-az-oroszoknak-a-kormany-altal-tamogatott-egyiptomi-gigauzlet-amibol-egy-magyar-ceget-furtak-ki\n",
      "https://444.hu/2019/10/24/mezei-virag-arnyek-buborek-alom\n",
      "https://444.hu/2019/09/27/szemelyes-fejlodes-diktald-te-a-tempot\n",
      "https://444.hu/2019/09/20/te-mar-egy-vilagklasszis-csapat-tagja-vagy\n",
      "https://444.hu/2019/06/26/uj-latasjavito-kezeles-szemuvegeseknek\n",
      "https://444.hu/2019/06/13/a-politikaban-hazudni-nem-lehet\n",
      "https://444.hu/2019/06/07/kovalik-balazs-elhatarolodik-az-atbuheralt-turandot-eloadastol\n",
      "https://444.hu/2019/02/04/van-valami-amit-a-magyar-szineszek-sosem-akartak\n",
      "https://444.hu/2019/01/23/sasszemklinika-legnepszerubb-klinika-tul-a-100-000-latasjavito-szemmuteten\n",
      "https://444.hu/2019/01/09/trump-mar-egy-acelkeritessel-is-beerne-ha-kap-ra-penzt-a-kepviselohaztol\n",
      "\n"
     ]
    }
   ],
   "source": [
    "dict_444 = {}\n",
    "for i in tqdm(range(41,375)):\n",
    "    page = f\"https://444.hu/archivum?page={i}\"\n",
    "    soup = BeautifulSoup(requests.get(page).text, 'html.parser')\n",
    "    articles = [article.get(\"href\") for article in soup.select(\"h3 a\")]\n",
    "    for article in articles:\n",
    "        try:\n",
    "            soup = BeautifulSoup(requests.get(article).text, 'html.parser')\n",
    "            author = soup.find(\"span\", {\"class\":\"byline__authors\"}).text.replace(\"\\n\", \"\").replace(\"\\t\", \"\").replace(\"\\r\", \"\")\n",
    "            publish_date = soup.select(\"span:nth-child(5)\")[0].text.replace(\"\\n\", \"\").replace(\"\\t\", \"\").replace(\"\\r\", \"\")\n",
    "\n",
    "            paragraphs = soup.find(\"article\").find_all(\"p\")\n",
    "            related_urls = []\n",
    "            for paragraph in paragraphs:\n",
    "                if \"MTI\" in paragraph.text or \"mti\" in paragraph.text or \"Mti\" in paragraph.text:\n",
    "                    related_urls.append(\"MTI\")\n",
    "                if paragraph.find_all(\"a\") is not None:\n",
    "                    for link in paragraph.find_all(\"a\"):\n",
    "                        if \"http\" in link.get('href'):\n",
    "                            related_urls.append(link.get('href'))\n",
    "                        else:\n",
    "                            related_urls.append(\"https:\" + link.get('href'))\n",
    "\n",
    "            dict_444[article] = {\n",
    "                \"related_links\" : related_urls,\n",
    "                \"author\" : author,\n",
    "                \"publish_date\" : publish_date\n",
    "            }\n",
    "        except:\n",
    "            print(article)"
   ]
  },
  {
   "cell_type": "code",
   "execution_count": 5,
   "metadata": {},
   "outputs": [],
   "source": [
    "with open('dict_444.p', 'wb') as f:\n",
    "    pickle.dump(dict_444, f)"
   ]
  },
  {
   "cell_type": "code",
   "execution_count": 6,
   "metadata": {},
   "outputs": [
    {
     "data": {
      "text/plain": [
       "16681"
      ]
     },
     "execution_count": 6,
     "metadata": {},
     "output_type": "execute_result"
    }
   ],
   "source": [
    "len(dict_444)"
   ]
  },
  {
   "cell_type": "code",
   "execution_count": null,
   "metadata": {},
   "outputs": [],
   "source": []
  }
 ],
 "metadata": {
  "kernelspec": {
   "display_name": "Python 3",
   "language": "python",
   "name": "python3"
  },
  "language_info": {
   "codemirror_mode": {
    "name": "ipython",
    "version": 3
   },
   "file_extension": ".py",
   "mimetype": "text/x-python",
   "name": "python",
   "nbconvert_exporter": "python",
   "pygments_lexer": "ipython3",
   "version": "3.7.3"
  }
 },
 "nbformat": 4,
 "nbformat_minor": 2
}
