{
 "cells": [
  {
   "cell_type": "code",
   "execution_count": 4,
   "metadata": {},
   "outputs": [],
   "source": [
    "import requests\n",
    "from bs4 import BeautifulSoup\n",
    "from tqdm import tqdm_notebook as tqdm\n",
    "import pickle"
   ]
  },
  {
   "cell_type": "code",
   "execution_count": null,
   "metadata": {},
   "outputs": [
    {
     "data": {
      "application/vnd.jupyter.widget-view+json": {
       "model_id": "cec38b3dcd554bb99e00f3e09e123bdf",
       "version_major": 2,
       "version_minor": 0
      },
      "text/plain": [
       "HBox(children=(IntProgress(value=0, max=15000), HTML(value='')))"
      ]
     },
     "metadata": {},
     "output_type": "display_data"
    }
   ],
   "source": [
    "links = []\n",
    "for page_num in tqdm(range(15000)):\n",
    "    response = requests.get(f\"https://kuruc.info/to/1/{page_num}0/\")\n",
    "    soup = BeautifulSoup(response.content, 'html.parser')\n",
    "    titles = soup.find_all(\"div\", class_=\"alcikkheader\")\n",
    "    links.extend([\"https://kuruc.info\" + title.find(\"a\").get(\"href\") for title in titles])"
   ]
  },
  {
   "cell_type": "code",
   "execution_count": 5,
   "metadata": {},
   "outputs": [],
   "source": [
    "with open(\"links.p\", \"rb\") as f:\n",
    "    links = pickle.load(f)"
   ]
  },
  {
   "cell_type": "code",
   "execution_count": 6,
   "metadata": {},
   "outputs": [
    {
     "data": {
      "text/plain": [
       "149990"
      ]
     },
     "execution_count": 6,
     "metadata": {},
     "output_type": "execute_result"
    }
   ],
   "source": [
    "len(links)"
   ]
  },
  {
   "cell_type": "code",
   "execution_count": 38,
   "metadata": {},
   "outputs": [
    {
     "data": {
      "application/vnd.jupyter.widget-view+json": {
       "model_id": "a8c7ba6126be486fbce99be67dd31950",
       "version_major": 2,
       "version_minor": 0
      },
      "text/plain": [
       "HBox(children=(IntProgress(value=0, max=30), HTML(value='')))"
      ]
     },
     "metadata": {},
     "output_type": "display_data"
    },
    {
     "name": "stdout",
     "output_type": "stream",
     "text": [
      "\n"
     ]
    }
   ],
   "source": [
    "kurucinfo_dict = {}\n",
    "for url in tqdm(links[:30]):\n",
    "    response = requests.get(url)\n",
    "    soup = BeautifulSoup(response.content, 'html.parser')\n",
    "    datetime = soup.find(\"span\", {'itemprop': \"datePublished\"}).text\n",
    "    body = soup.find('div', {'itemprop': 'articleBody'})\n",
    "    related_urls = []\n",
    "    if \"MTI\" in body.text or \" mti \" in body.text or \"Mti\" in body.text:\n",
    "        related_urls.append(\"MTI\")\n",
    "    for link in body.find_all(\"a\"):\n",
    "        if \"http\" in link.get('href'):\n",
    "            related_urls.append(link.get('href'))\n",
    "        else:\n",
    "            related_urls.append(\"https://zsurpubi.hu/\" +  link.get('href'))\n",
    "    kurucinfo_dict[url] = {\n",
    "            \"related_links\" : related_urls,\n",
    "            \"publish_date\" : datetime\n",
    "        }"
   ]
  },
  {
   "cell_type": "code",
   "execution_count": 39,
   "metadata": {},
   "outputs": [
    {
     "data": {
      "text/plain": [
       "{'https://kuruc.info/r/2/208747/': {'related_links': ['MTI'],\n",
       "  'publish_date': '2020. február 26. 14:47'},\n",
       " 'https://kuruc.info/r/4/208746/': {'related_links': ['MTI'],\n",
       "  'publish_date': '2020. február 26. 14:18'},\n",
       " 'https://kuruc.info/r/2/208745/': {'related_links': ['MTI'],\n",
       "  'publish_date': '2020. február 26. 14:03'},\n",
       " 'https://kuruc.info/r/4/208744/': {'related_links': ['MTI'],\n",
       "  'publish_date': '2020. február 26. 13:52'},\n",
       " 'https://kuruc.info/r/2/208743/': {'related_links': ['https://www.facebook.com/dr.toth.bertalan.mszp/videos/198232507930485/'],\n",
       "  'publish_date': '2020. február 26. 13:26'},\n",
       " 'https://kuruc.info/r/2/208742/': {'related_links': ['MTI'],\n",
       "  'publish_date': '2020. február 26. 13:03'},\n",
       " 'https://kuruc.info/r/2/208741/': {'related_links': ['MTI'],\n",
       "  'publish_date': '2020. február 26. 12:37'},\n",
       " 'https://kuruc.info/r/1/208740/': {'related_links': ['MTI',\n",
       "   'https://zsurpubi.hu//galeriaN/egyeb/korona2020225.jpg'],\n",
       "  'publish_date': '2020. február 26. 12:25'},\n",
       " 'https://kuruc.info/r/50/205841/': {'related_links': ['http://magyarharcos.hu/site/index.php?id=pulover_zipzar',\n",
       "   'http://magyarharcos.hu/site/index.php?id=egyeb_sapkak',\n",
       "   'http://magyarharcos.hu/site/index.php?id=egyeb_kabatok',\n",
       "   'http://magyarharcos.hu/site/index.php?id=polo_harcos',\n",
       "   'http://magyarharcos.hu/site/index.php?id=pulover_allonyaku',\n",
       "   'http://magyarharcos.hu/site/index.php?id=polo_noi',\n",
       "   'http://magyarharcos.hu/site/index.php?id=pulover_belebujos',\n",
       "   'http://magyarharcos.hu/site/index.php?id=polo_galleros',\n",
       "   'http://magyarharcos.hu/site/index.php?id=egyeb_nadragok',\n",
       "   'http://magyarharcos.hu/site/index.php?id=pulover_allonyaku',\n",
       "   'http://magyarharcos.hu/site/index.php?id=polo_gyerek',\n",
       "   'http://magyarharcos.hu/site/index.php?id=polo_noi',\n",
       "   'http://magyarharcos.hu/site/index.php?id=pulover_kotott',\n",
       "   'http://magyarharcos.hu/site/index.php?id=pulover_allonyaku',\n",
       "   'http:// http://magyarharcos.hu/site/index.php?id=pulover_noi',\n",
       "   'http://magyarharcos.hu/site/index.php?id=pulover_zipzar',\n",
       "   'http://magyarharcos.hu/site/index.php?id=pulover_zipzar',\n",
       "   'http:// http://magyarharcos.hu/site/index.php?id=polo_gyerek',\n",
       "   'http://magyarharcos.hu/site/index.php?id=polo_noi',\n",
       "   'http://magyarharcos.hu/site/index.php?id=polo_noi',\n",
       "   'http://magyarharcos.hu/site/index.php?id=polo_galleros',\n",
       "   'http://magyarharcos.hu/site/index.php?id=pulover_allonyaku',\n",
       "   'http://magyarharcos.hu/site/index.php?id=egyeb_kabatok',\n",
       "   'http://magyarharcos.hu/site/index.php?id=pulover_zipzar',\n",
       "   'http://magyarharcos.hu/site/index.php?id=pulover_zipzar',\n",
       "   'http://magyarharcos.hu/site/index.php?id=pulover_zipzar',\n",
       "   'http://magyarharcos.hu/site/index.php?id=pulover_allonyaku',\n",
       "   'http://magyarharcos.hu/site/index.php?id=polo_noi',\n",
       "   'http://magyarharcos.hu/site/index.php?id=pulover_allonyaku',\n",
       "   'http:// http://magyarharcos.hu/site/index.php?id=pulover_noi',\n",
       "   'http://magyarharcos.hu/site/index.php?id=kifuto_polo_galleros',\n",
       "   'http://magyarharcos.hu/site/index.php?id=kifuto_polo_gyerek',\n",
       "   'http://magyarharcos.hu/site/index.php?id=kifuto_polo_harcos',\n",
       "   'http://magyarharcos.hu/site/index.php?id=kifuto_polo_noi',\n",
       "   'http://magyarharcos.hu/site/index.php?id=kifuto_puloverek',\n",
       "   'http://magyarharcos.hu/site/index.php?id=kifuto_ing',\n",
       "   'http://magyarharcos.hu/site/index.php?id=kifuto_atleta',\n",
       "   'http://www.magyarharcos.hu/',\n",
       "   'http://magyarharcos.hu/site/index.php?id=viszonteladok',\n",
       "   'https://www.facebook.com/magyarharcos2004/'],\n",
       "  'publish_date': '2020. február 28. 19:26'},\n",
       " 'https://kuruc.info/r/2/208738/': {'related_links': ['MTI',\n",
       "   'https://www.jpost.com/Diaspora/Antisemitism/1-in-5-Europeans-says-secret-Jewish-cabal-runs-the-world-survey-finds-618830',\n",
       "   'https://zsurpubi.hu//galeriaN/egyeb/kovesslomo_i_h22602.jpg',\n",
       "   'https://zsurpubi.hu//galeriaN/egyeb/kovesslomo_i_h22604.jpg',\n",
       "   'https://zsurpubi.hu//r/2/202562/',\n",
       "   'https://zsurpubi.hu//r/9/208673/'],\n",
       "  'publish_date': '2020. február 26. 12:00'},\n",
       " 'https://kuruc.info/r/4/208730/': {'related_links': ['MTI'],\n",
       "  'publish_date': '2020. február 26. 11:38'},\n",
       " 'https://kuruc.info/r/2/208739/': {'related_links': ['MTI'],\n",
       "  'publish_date': '2020. február 26. 11:16'},\n",
       " 'https://kuruc.info/r/2/208737/': {'related_links': [],\n",
       "  'publish_date': '2020. február 26. 10:54'},\n",
       " 'https://kuruc.info/r/2/208736/': {'related_links': ['MTI'],\n",
       "  'publish_date': '2020. február 26. 10:30'},\n",
       " 'https://kuruc.info/r/4/208734/': {'related_links': [],\n",
       "  'publish_date': '2020. február 26. 10:14'},\n",
       " 'https://kuruc.info/r/50/208735/': {'related_links': ['http://www.turania.hu/catalog/karpatia-1920-polo',\n",
       "   'http://www.turania.hu/catalog/vkb?page=3',\n",
       "   'http://www.turania.hu/catalog/porcelan-matyo-baba01',\n",
       "   'http://www.turania.hu/catalog/trianon-100-polo',\n",
       "   'http://www.turania.hu/catalog/kereszteny-hetero-polo'],\n",
       "  'publish_date': '2020. február 26. 10:04'},\n",
       " 'https://kuruc.info/r/2/208733/': {'related_links': ['https://zsurpubi.hu//galeriaN/egyeb/Gyurcsany_ciganyvagyok.jpg',\n",
       "   'https://zsurpubi.hu//r/26/208619/',\n",
       "   'https://zsurpubi.hu//r/2/208722/'],\n",
       "  'publish_date': '2020. február 26. 09:48'},\n",
       " 'https://kuruc.info/r/2/208732/': {'related_links': ['https://zsurpubi.hu//r/7/208689/',\n",
       "   'https://zsurpubi.hu//galeriaN/egyeb/fekete_miklos_febr_25.jpg',\n",
       "   'https://mszp.hu/parttag/fekete_miklos',\n",
       "   'https://www.facebook.com/mihazank.tatabanya/photos/a.321903171693202/596045767612273/?type=3&theater',\n",
       "   'https://zsurpubi.hu//galeriaN/egyeb/mi_hazank_tatabanya_febr_25.jpg'],\n",
       "  'publish_date': '2020. február 26. 09:29'},\n",
       " 'https://kuruc.info/r/6/208731/': {'related_links': ['https://zsurpubi.hu//r/35/195876/'],\n",
       "  'publish_date': '2020. február 26. 08:45'},\n",
       " 'https://kuruc.info/r/1/208729/': {'related_links': ['MTI'],\n",
       "  'publish_date': '2020. február 26. 08:17'}}"
      ]
     },
     "execution_count": 39,
     "metadata": {},
     "output_type": "execute_result"
    }
   ],
   "source": [
    "kurucinfo_dict"
   ]
  },
  {
   "cell_type": "code",
   "execution_count": null,
   "metadata": {},
   "outputs": [],
   "source": []
  }
 ],
 "metadata": {
  "kernelspec": {
   "display_name": "Python 3",
   "language": "python",
   "name": "python3"
  },
  "language_info": {
   "codemirror_mode": {
    "name": "ipython",
    "version": 3
   },
   "file_extension": ".py",
   "mimetype": "text/x-python",
   "name": "python",
   "nbconvert_exporter": "python",
   "pygments_lexer": "ipython3",
   "version": "3.7.4"
  }
 },
 "nbformat": 4,
 "nbformat_minor": 2
}
