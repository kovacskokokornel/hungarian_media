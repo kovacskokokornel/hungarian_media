{
 "cells": [
  {
   "cell_type": "code",
   "execution_count": 9,
   "metadata": {},
   "outputs": [],
   "source": [
    "import requests\n",
    "from bs4 import BeautifulSoup\n",
    "from tqdm import tqdm_notebook as tqdm\n",
    "import pickle"
   ]
  },
  {
   "cell_type": "code",
   "execution_count": null,
   "metadata": {},
   "outputs": [
    {
     "data": {
      "application/vnd.jupyter.widget-view+json": {
       "model_id": "a401de180de74990820b0a7cb22716d2",
       "version_major": 2,
       "version_minor": 0
      },
      "text/plain": [
       "HBox(children=(IntProgress(value=0, max=2008), HTML(value='')))"
      ]
     },
     "metadata": {},
     "output_type": "display_data"
    }
   ],
   "source": [
    "links = []\n",
    "for page_num in tqdm(range(2008)):\n",
    "    response = requests.get(f\"https://magyarnemzet.hu/page/{i+1}/?after=2019-01-01&author&before=2019-12-31&category=0&s\")\n",
    "    soup = BeautifulSoup(response.content, 'html.parser')\n",
    "    titles = soup.select(\"#left-area h2\")\n",
    "    links.extend([title.find(\"a\").get(\"href\") for title in titles])\n",
    "with open('links.p', 'wb') as f:\n",
    "    pickle.dump(links, f)"
   ]
  },
  {
   "cell_type": "code",
   "execution_count": 8,
   "metadata": {},
   "outputs": [
    {
     "data": {
      "text/plain": [
       "['https://magyarnemzet.hu/belfold/ader-janos-nem-a-termeszetet-hanem-a-sajat-termeszetunket-kell-legyozni-7630733/',\n",
       " 'https://magyarnemzet.hu/napi-terror/napi-terror-12-31-7630547/',\n",
       " 'https://magyarnemzet.hu/kulfold/ferenc-papa-az-embereknek-es-az-egyhaznak-oda-kell-figyelniuk-egymasra-7630652/',\n",
       " 'https://magyarnemzet.hu/kulfold/donald-trump-a-moszkvaval-folytatott-kivalo-egyuttmukodest-dicseri-7630628/',\n",
       " 'https://magyarnemzet.hu/belfold/elfogta-a-rendorseg-a-kobanyai-gyilkossag-feltetelezett-elkovetojet-7630679/',\n",
       " 'https://magyarnemzet.hu/kulfold/megrongaltak-picasso-egy-festmenyet-a-londoni-tate-modern-galeriaban-7630526/',\n",
       " 'https://magyarnemzet.hu/belfold/bovul-a-horgaszati-eljarasok-elektronizacioja-7630520/',\n",
       " 'https://magyarnemzet.hu/belfold/gulyas-gergely-a-neppart-szamara-a-veg-kezdete-lenne-a-fidesz-tavozasa-7630622/',\n",
       " 'https://magyarnemzet.hu/gazdasag/harom-eve-a-legnagyobb-mertekben-dragult-iden-a-koolaj-7630445/',\n",
       " 'https://magyarnemzet.hu/belfold/napos-ido-varhato-2020-elso-napjan-7630499/',\n",
       " 'https://magyarnemzet.hu/kultura/meghalt-harry-kupfer-nemet-operarendezo-7630493/',\n",
       " 'https://magyarnemzet.hu/gazdasag/szorgalmasan-vasaroljuk-a-matricakat-7628642/',\n",
       " 'https://magyarnemzet.hu/gazdasag/erosodott-a-forint-18-7630487/',\n",
       " 'https://magyarnemzet.hu/kulfold/uj-guinness-rekord-szuletett-7630469/',\n",
       " 'https://magyarnemzet.hu/kulfold/london-meg-akarta-hivni-oroszorszagot-a-nato-ba-7630463/',\n",
       " 'https://magyarnemzet.hu/lugas-rovat/lugas-karikatura/rendszervaltas-30-7630292/',\n",
       " 'https://magyarnemzet.hu/belfold/a-tortenelemnek-nem-lett-vege-2019-ben-sem-7634204/',\n",
       " 'https://magyarnemzet.hu/belfold/megerosodott-a-dk-es-a-momentum-7630601/',\n",
       " 'https://magyarnemzet.hu/kulfold/romania-csak-szavakban-vedi-a-kisebbsegeket-7627613/',\n",
       " 'https://magyarnemzet.hu/sport/lorincz-viktor-a-legjobb-kotottfogasu-birkozo-7630532/']"
      ]
     },
     "execution_count": 8,
     "metadata": {},
     "output_type": "execute_result"
    }
   ],
   "source": [
    "links"
   ]
  },
  {
   "cell_type": "code",
   "execution_count": null,
   "metadata": {},
   "outputs": [],
   "source": []
  }
 ],
 "metadata": {
  "kernelspec": {
   "display_name": "Python 3",
   "language": "python",
   "name": "python3"
  },
  "language_info": {
   "codemirror_mode": {
    "name": "ipython",
    "version": 3
   },
   "file_extension": ".py",
   "mimetype": "text/x-python",
   "name": "python",
   "nbconvert_exporter": "python",
   "pygments_lexer": "ipython3",
   "version": "3.7.4"
  }
 },
 "nbformat": 4,
 "nbformat_minor": 2
}
