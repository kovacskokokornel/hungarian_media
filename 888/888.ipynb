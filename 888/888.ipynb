{
 "cells": [
  {
   "cell_type": "code",
   "execution_count": 70,
   "metadata": {},
   "outputs": [],
   "source": [
    "params = (\n",
    "    ('get_next_main_content', '3'),\n",
    "    ('front_page', '0'),\n",
    ")\n",
    "\n",
    "data = {\n",
    "  'get_next_main_content': '4218999'\n",
    "}\n",
    "\n",
    "response = requests.post('https://888.hu/', params=params, data=data)\n",
    "\n",
    "#NB. Original query string below. It seems impossible to parse and\n",
    "#reproduce query strings 100% accurately so the one below is given\n",
    "#in case the reproduced version is not \"correct\".\n",
    "# response = requests.post('https://888.hu/?get_next_main_content=1&front_page=1', headers=headers, data=data)\n"
   ]
  },
  {
   "cell_type": "code",
   "execution_count": 71,
   "metadata": {},
   "outputs": [],
   "source": [
    "soup = BeautifulSoup(response.content, 'html.parser')"
   ]
  },
  {
   "cell_type": "code",
   "execution_count": 72,
   "metadata": {},
   "outputs": [
    {
     "data": {
      "text/plain": [
       "65"
      ]
     },
     "execution_count": 72,
     "metadata": {},
     "output_type": "execute_result"
    }
   ],
   "source": [
    "articles = [\"https://888.hu\" + tag.find(\"a\").get(\"href\") for tag in soup.find_all(\"figcaption\")]\n",
    "len(articles)"
   ]
  },
  {
   "cell_type": "code",
   "execution_count": 73,
   "metadata": {},
   "outputs": [
    {
     "data": {
      "text/plain": [
       "['https://888.hu/article-n-4218371',\n",
       " 'https://888.hu/article-n-4218382',\n",
       " 'https://888.hu/article-n-4218394',\n",
       " 'https://888.hu/article-n-4218407',\n",
       " 'https://888.hu/article-n-4218413',\n",
       " 'https://888.hu/article-n-4218419',\n",
       " 'https://888.hu/article-n-4218430',\n",
       " 'https://888.hu/article-n-4218431',\n",
       " 'https://888.hu/article-n-4218445',\n",
       " 'https://888.hu/article-n-4218450',\n",
       " 'https://888.hu/article-n-4218455',\n",
       " 'https://888.hu/article-n-4218457',\n",
       " 'https://888.hu/article-n-4218498',\n",
       " 'https://888.hu/article-n-4218517',\n",
       " 'https://888.hu/article-n-4218520',\n",
       " 'https://888.hu/article-n-4218523',\n",
       " 'https://888.hu/article-n-4218525',\n",
       " 'https://888.hu/article-n-4218542',\n",
       " 'https://888.hu/article-n-4218547',\n",
       " 'https://888.hu/article-n-4218548',\n",
       " 'https://888.hu/article-n-4218568',\n",
       " 'https://888.hu/article-n-4218586',\n",
       " 'https://888.hu/article-n-4218591',\n",
       " 'https://888.hu/article-n-4218596',\n",
       " 'https://888.hu/article-n-4218601',\n",
       " 'https://888.hu/article-n-4218619',\n",
       " 'https://888.hu/article-n-4218629',\n",
       " 'https://888.hu/article-n-4218643',\n",
       " 'https://888.hu/article-n-4218656',\n",
       " 'https://888.hu/article-n-4218661',\n",
       " 'https://888.hu/article-n-4218663',\n",
       " 'https://888.hu/article-n-4218667',\n",
       " 'https://888.hu/article-n-4218677',\n",
       " 'https://888.hu/article-n-4218680',\n",
       " 'https://888.hu/article-n-4218685',\n",
       " 'https://888.hu/article-n-4218705',\n",
       " 'https://888.hu/article-n-4218714',\n",
       " 'https://888.hu/article-n-4218726',\n",
       " 'https://888.hu/article-n-4218744',\n",
       " 'https://888.hu/article-n-4218746',\n",
       " 'https://888.hu/article-n-4218789',\n",
       " 'https://888.hu/article-n-4218791',\n",
       " 'https://888.hu/article-n-4218795',\n",
       " 'https://888.hu/article-n-4218801',\n",
       " 'https://888.hu/article-n-4218807',\n",
       " 'https://888.hu/article-n-4218811',\n",
       " 'https://888.hu/article-n-4218815',\n",
       " 'https://888.hu/article-n-4218819',\n",
       " 'https://888.hu/article-n-4218823',\n",
       " 'https://888.hu/article-n-4218851',\n",
       " 'https://888.hu/article-n-4218854',\n",
       " 'https://888.hu/article-n-4218870',\n",
       " 'https://888.hu/article-n-4218878',\n",
       " 'https://888.hu/article-n-4218883',\n",
       " 'https://888.hu/article-n-4218889',\n",
       " 'https://888.hu/article-n-4218900',\n",
       " 'https://888.hu/article-n-4218903',\n",
       " 'https://888.hu/article-n-4218921',\n",
       " 'https://888.hu/article-n-4218925',\n",
       " 'https://888.hu/article-n-4218928',\n",
       " 'https://888.hu/article-n-4218936',\n",
       " 'https://888.hu/article-n-4218951',\n",
       " 'https://888.hu/article-n-4218972',\n",
       " 'https://888.hu/article-n-4218986',\n",
       " 'https://888.hu/article-n-4218997']"
      ]
     },
     "execution_count": 73,
     "metadata": {},
     "output_type": "execute_result"
    }
   ],
   "source": [
    "sorted(articles)"
   ]
  },
  {
   "cell_type": "code",
   "execution_count": null,
   "metadata": {},
   "outputs": [],
   "source": []
  },
  {
   "cell_type": "code",
   "execution_count": null,
   "metadata": {},
   "outputs": [],
   "source": [
    "for i in range(400000, 400100):\n",
    "    "
   ]
  }
 ],
 "metadata": {
  "kernelspec": {
   "display_name": "Python 3",
   "language": "python",
   "name": "python3"
  },
  "language_info": {
   "codemirror_mode": {
    "name": "ipython",
    "version": 3
   },
   "file_extension": ".py",
   "mimetype": "text/x-python",
   "name": "python",
   "nbconvert_exporter": "python",
   "pygments_lexer": "ipython3",
   "version": "3.7.4"
  }
 },
 "nbformat": 4,
 "nbformat_minor": 2
}
