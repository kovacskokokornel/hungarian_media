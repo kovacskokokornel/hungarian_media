{
 "cells": [
  {
   "cell_type": "code",
   "execution_count": 3,
   "metadata": {},
   "outputs": [],
   "source": [
    "import requests\n",
    "from bs4 import BeautifulSoup\n",
    "from tqdm import tqdm_notebook as tqdm\n",
    "import pickle"
   ]
  },
  {
   "cell_type": "code",
   "execution_count": 8,
   "metadata": {},
   "outputs": [],
   "source": [
    "headers = {\n",
    "    'authority': 'zsurpubi.hu',\n",
    "    'accept': '*/*',\n",
    "    'sec-fetch-dest': 'empty',\n",
    "    'x-requested-with': 'XMLHttpRequest',\n",
    "    'request-id': '|NvdVJ.YQzbH',\n",
    "    'user-agent': 'Mozilla/5.0 (Windows NT 10.0; Win64; x64) AppleWebKit/537.36 (KHTML, like Gecko) Chrome/80.0.3987.122 Safari/537.36',\n",
    "    'content-type': 'application/x-www-form-urlencoded; charset=UTF-8',\n",
    "    'origin': 'https://zsurpubi.hu',\n",
    "    'sec-fetch-site': 'same-origin',\n",
    "    'sec-fetch-mode': 'cors',\n",
    "    'referer': 'https://zsurpubi.hu/kereses/?keyword=&date_from=2019.+01.+01.&date_to=2019.+12.+31.&author=&category=&tags=',\n",
    "    'accept-language': 'en-GB,en;q=0.9,hu-HU;q=0.8,hu;q=0.7,en-US;q=0.6'}\n",
    "\n",
    "params = (\n",
    "    ('keyword', ''),\n",
    "    ('date_from', '2019. 01. 01.'),\n",
    "    ('date_to', '2019. 12. 31.'),\n",
    "    ('author', ''),\n",
    "    ('category', ''),\n",
    "    ('tags', ''),\n",
    ")\n",
    "\n",
    "data = {\n",
    "  'search_more_articles': '1',\n",
    "  'limit': '3000',\n",
    "  'offset': '0'\n",
    "}\n",
    "\n",
    "response = requests.post('https://zsurpubi.hu/kereses/', headers=headers, params=params, data=data)"
   ]
  },
  {
   "cell_type": "code",
   "execution_count": 9,
   "metadata": {},
   "outputs": [],
   "source": [
    "soup = BeautifulSoup(response.content, 'html.parser')"
   ]
  },
  {
   "cell_type": "code",
   "execution_count": 10,
   "metadata": {},
   "outputs": [],
   "source": [
    "links = [\"https://zsurpubi.hu/\" + tag.find(\"a\").get(\"href\") for tag in soup.find_all(\"h2\")]"
   ]
  },
  {
   "cell_type": "code",
   "execution_count": 12,
   "metadata": {},
   "outputs": [
    {
     "data": {
      "text/plain": [
       "2929"
      ]
     },
     "execution_count": 12,
     "metadata": {},
     "output_type": "execute_result"
    }
   ],
   "source": [
    "len(links)"
   ]
  },
  {
   "cell_type": "code",
   "execution_count": 17,
   "metadata": {},
   "outputs": [
    {
     "data": {
      "application/vnd.jupyter.widget-view+json": {
       "model_id": "7c689842a02141f1bf37838c71f5641f",
       "version_major": 2,
       "version_minor": 0
      },
      "text/plain": [
       "HBox(children=(IntProgress(value=0, max=2929), HTML(value='')))"
      ]
     },
     "metadata": {},
     "output_type": "display_data"
    }
   ],
   "source": [
    "zsurpubi_dict = {}\n",
    "for url in tqdm(links):\n",
    "    response = requests.get(url)\n",
    "    if response.status_code == 200:\n",
    "        soup = BeautifulSoup(response.content, 'html.parser')\n",
    "        datetime = soup.find(\"time\").get(\"datetime\")\n",
    "        related_urls = []\n",
    "        paragraphs = soup.find_all(\"p\")\n",
    "        for paragraph in paragraphs:\n",
    "            if \"MTI\" in paragraph.text or \" mti \" in paragraph.text or \"Mti\" in paragraph.text:\n",
    "                related_urls.append(\"MTI\")\n",
    "            if paragraph.find_all(\"a\") is not None:\n",
    "                for link in paragraph.find_all(\"a\"):\n",
    "                    if \"http\" in link.get('href'):\n",
    "                        related_urls.append(link.get('href'))\n",
    "                    else:\n",
    "                        related_urls.append(\"https://zsurpubi.hu/\" +  link.get('href'))\n",
    "        zsurpubi_dict[url] = {\n",
    "        \"related_links\" : related_urls,\n",
    "        \"publish_date\" : datetime\n",
    "    }"
   ]
  },
  {
   "cell_type": "code",
   "execution_count": 18,
   "metadata": {},
   "outputs": [],
   "source": [
    "with open('zsurpubi_dict.p', 'wb') as f:\n",
    "    pickle.dump(zsurpubi_dict, f)"
   ]
  },
  {
   "cell_type": "code",
   "execution_count": null,
   "metadata": {},
   "outputs": [],
   "source": []
  }
 ],
 "metadata": {
  "kernelspec": {
   "display_name": "Python 3",
   "language": "python",
   "name": "python3"
  },
  "language_info": {
   "codemirror_mode": {
    "name": "ipython",
    "version": 3
   },
   "file_extension": ".py",
   "mimetype": "text/x-python",
   "name": "python",
   "nbconvert_exporter": "python",
   "pygments_lexer": "ipython3",
   "version": "3.7.3"
  }
 },
 "nbformat": 4,
 "nbformat_minor": 2
}
