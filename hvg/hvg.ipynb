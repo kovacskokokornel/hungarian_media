{
 "cells": [
  {
   "cell_type": "code",
   "execution_count": null,
   "metadata": {},
   "outputs": [],
   "source": [
    "import requests\n",
    "import pandas as pd\n",
    "import json\n",
    "from bs4 import BeautifulSoup\n",
    "from tqdm import tqdm_notebook as tqdm"
   ]
  },
  {
   "cell_type": "code",
   "execution_count": null,
   "metadata": {},
   "outputs": [],
   "source": [
    "hvg_dict = {}\n",
    "for i in tqdm(range(9950,10000)): ### Ezt kell itt variálni majd mindig\n",
    "    page = f\"https://hvg.hu/kereses/{i}?mit=%2A&ver=1\"\n",
    "    soup = BeautifulSoup(requests.get(page).text, 'html.parser')\n",
    "    articles_raw = soup.select(\".column-articlelist .heading-3 a\")\n",
    "    articles = [\"https://hvg.hu\" + article.get(\"href\") for article in articles_raw]\n",
    "    for article in articles:\n",
    "        try:\n",
    "            soup = BeautifulSoup(requests.get(article).text, 'html.parser')\n",
    "\n",
    "            author = soup.find(\"div\", {\"class\":\"author-name\"}).text.replace(\"\\n\", \"\").replace(\"\\t\", \"\").replace(\"\\r\", \"\")\n",
    "            publish_date = soup.find(\"time\", {\"class\":\"article-datetime\"}).text.replace(\"\\n\", \"\").replace(\"\\t\", \"\").replace(\"\\r\", \"\")\n",
    "            try:\n",
    "                last_modification_date = soup.find(\"time\", {\"class\":\"lastdate\"}).text.replace(\"\\n\", \"\").replace(\"\\t\", \"\").replace(\"\\r\", \"\")\n",
    "            except:\n",
    "                last_modification_date = None\n",
    "            paragraphs = soup.select(\".entry-content p\")\n",
    "            related_urls = [x.find('a').get('href') for x in paragraphs if x.find('a') is not None]\n",
    "\n",
    "            hvg_dict[article] = {\n",
    "                \"related_links\" : related_urls,\n",
    "                \"author\" : author,\n",
    "                \"publish_date\" : publish_date,\n",
    "                \"last_modification_date\" : last_modification_date\n",
    "            }\n",
    "        except:\n",
    "            print(article)"
   ]
  },
  {
   "cell_type": "code",
   "execution_count": null,
   "metadata": {},
   "outputs": [],
   "source": []
  }
 ],
 "metadata": {
  "kernelspec": {
   "display_name": "Python 3",
   "language": "python",
   "name": "python3"
  },
  "language_info": {
   "codemirror_mode": {
    "name": "ipython",
    "version": 3
   },
   "file_extension": ".py",
   "mimetype": "text/x-python",
   "name": "python",
   "nbconvert_exporter": "python",
   "pygments_lexer": "ipython3",
   "version": "3.7.4"
  }
 },
 "nbformat": 4,
 "nbformat_minor": 2
}
