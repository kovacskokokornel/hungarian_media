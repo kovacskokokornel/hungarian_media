{
 "cells": [
  {
   "cell_type": "code",
   "execution_count": 1,
   "metadata": {},
   "outputs": [],
   "source": [
    "import pickle\n",
    "from os import listdir\n",
    "import pandas as pd\n",
    "from urllib.parse import urlparse\n",
    "from collections import Counter\n",
    "from tqdm import tqdm_notebook as tqdm\n",
    "import numpy as np\n",
    "import matplotlib.pyplot as plt"
   ]
  },
  {
   "cell_type": "code",
   "execution_count": 2,
   "metadata": {},
   "outputs": [],
   "source": [
    "platform_dict = {\n",
    "    'alfa_dict.p': \"alfahir.hu\",\n",
    "    'dict_444.p': \"444.hu\",\n",
    "    'hu24_dict.p': \"24.hu\",\n",
    "    'hvg_dict.p': \"hvg.hu\",\n",
    "    'index_dict.p': \"index.hu\",\n",
    "    'kurucinfo_dict.p': \"kuruc.info\",\n",
    "    'magyar_hirlap.p': \"magyarhirlap.hu\",\n",
    "    'magyar_idok_dict.p': \"magyarnemzet.hu\",\n",
    "    'magyar_nemzet_dict.p': \"magyarnemzet.hu\",\n",
    "    'origo.p': \"origo.hu\",\n",
    "    'zsurpubi_dict.p': \"zsurpubi.hu\"\n",
    "}"
   ]
  },
  {
   "cell_type": "code",
   "execution_count": 3,
   "metadata": {},
   "outputs": [
    {
     "data": {
      "text/plain": [
       "['alfa_dict.p',\n",
       " 'dict_444.p',\n",
       " 'hu24_dict.p',\n",
       " 'hvg_dict.p',\n",
       " 'index_dict.p',\n",
       " 'kurucinfo_dict.p',\n",
       " 'magyar_hirlap.p',\n",
       " 'magyar_idok_dict.p',\n",
       " 'magyar_nemzet_dict.p',\n",
       " 'origo.p',\n",
       " 'zsurpubi_dict.p']"
      ]
     },
     "execution_count": 3,
     "metadata": {},
     "output_type": "execute_result"
    }
   ],
   "source": [
    "files = [f for f in listdir(\".\\\\\") if f[-1] == \"p\"]\n",
    "files"
   ]
  },
  {
   "cell_type": "code",
   "execution_count": 4,
   "metadata": {
    "scrolled": true
   },
   "outputs": [
    {
     "name": "stdout",
     "output_type": "stream",
     "text": [
      "alfa_dict.p :  9014 8984\n",
      "dict_444.p :  16681 16379\n",
      "hu24_dict.p :  90365 32692\n",
      "hvg_dict.p :  41123 40600\n",
      "index_dict.p :  52479 52479\n",
      "kurucinfo_dict.p :  149961 12913\n",
      "magyar_hirlap.p :  23671 23627\n",
      "magyar_idok_dict.p :  4416 4416\n",
      "magyar_nemzet_dict.p :  39910 39909\n",
      "origo.p :  53370 52168\n",
      "zsurpubi_dict.p :  2929 2929\n"
     ]
    }
   ],
   "source": [
    "df_list = []\n",
    "for file in files:\n",
    "    with open(file, 'rb') as f:\n",
    "        x = pickle.load(f)\n",
    "        for item in x:\n",
    "            x[item][\"platform\"] = platform_dict[file]\n",
    "        df = pd.DataFrame.from_dict(data = x, orient = 'index').reset_index()\n",
    "        condition = df[\"publish_date\"].str.contains('2019', na = False)\n",
    "        df = df.loc[condition]\n",
    "        print(file, \": \", len(x), len(df))\n",
    "        df_list.append(df)"
   ]
  },
  {
   "cell_type": "code",
   "execution_count": 5,
   "metadata": {},
   "outputs": [],
   "source": [
    "def hostname_parser(url):\n",
    "    hostname_list = [urlparse(element).hostname if element != \"MTI\" else \"MTI\" for element in url]\n",
    "    hostname_list = [host.replace(\"www.\",\"\") if host is not None else host for host in hostname_list]\n",
    "    hostname_list = [\"index.hu\" if host == \"dex.hu\" is not None else host for host in hostname_list]\n",
    "    hostname_list = [\"twitter.com\" if host == \"t.co\" is not None else host for host in hostname_list]\n",
    "    hostname_list = [\"magyarnemzet.hu\" if host == \"magyaridok.hu\" is not None else host for host in hostname_list]\n",
    "    return hostname_list"
   ]
  },
  {
   "cell_type": "code",
   "execution_count": 6,
   "metadata": {},
   "outputs": [],
   "source": [
    "df = pd.concat(df_list, sort = False)\n",
    "df[\"related_hosts\"] = [hostname_parser(url) for url in df[\"related_links\"]]\n",
    "df = df[[\"index\", \n",
    "         \"platform\", \n",
    "         \"publish_date\", \n",
    "         \"related_links\", \n",
    "         \"related_hosts\"]]"
   ]
  },
  {
   "cell_type": "code",
   "execution_count": 7,
   "metadata": {},
   "outputs": [
    {
     "data": {
      "text/plain": [
       "['alfahir.hu',\n",
       " '444.hu',\n",
       " '24.hu',\n",
       " 'hvg.hu',\n",
       " 'index.hu',\n",
       " 'kuruc.info',\n",
       " 'magyarhirlap.hu',\n",
       " 'magyarnemzet.hu',\n",
       " 'origo.hu',\n",
       " 'zsurpubi.hu']"
      ]
     },
     "execution_count": 7,
     "metadata": {},
     "output_type": "execute_result"
    }
   ],
   "source": [
    "platforms = list(df[\"platform\"].unique())\n",
    "platforms"
   ]
  },
  {
   "cell_type": "code",
   "execution_count": 8,
   "metadata": {},
   "outputs": [],
   "source": [
    "platform_count = {}\n",
    "for platform in platforms:\n",
    "    hosts = df[df[\"platform\"] == platform][\"related_hosts\"]\n",
    "    result_distinct = list(x for l in hosts for x in l)\n",
    "    platform_count[platform] = dict(Counter(result_distinct))"
   ]
  },
  {
   "cell_type": "code",
   "execution_count": 9,
   "metadata": {},
   "outputs": [
    {
     "data": {
      "text/plain": [
       "{'zsurpubi.hu': 1263,\n",
       " 'MTI': 174,\n",
       " '24.hu': 99,\n",
       " 'facebook.com': 91,\n",
       " '444.hu': 89,\n",
       " 'youtube.com': 63,\n",
       " 'index.hu': 54,\n",
       " 'twitter.com': 50,\n",
       " 'nepszava.hu': 49,\n",
       " 'hvg.hu': 47,\n",
       " 'parlament.hu': 45,\n",
       " 'magyarhang.org': 27,\n",
       " 'instagram.com': 22,\n",
       " 'mfor.hu': 22,\n",
       " 'alfahir.hu': 18,\n",
       " 'napi.hu': 16,\n",
       " 'magyarnemzet.hu': 12,\n",
       " 'police.hu': 11,\n",
       " 'g7.hu': 11,\n",
       " 'magyarnarancs.hu': 10,\n",
       " 'valaszonline.hu': 9,\n",
       " 'kormany.hu': 9,\n",
       " 'blog.atlatszo.hu': 9,\n",
       " 'mandiner.hu': 8,\n",
       " 'atlatszo.hu': 8,\n",
       " 'hu.euronews.com': 8,\n",
       " '168ora.hu': 7,\n",
       " 'atv.hu': 7,\n",
       " 'origo.hu': 6,\n",
       " 'merce.hu': 6,\n",
       " 'ezazordogugyvedje.wordpress.com': 6,\n",
       " 'azonnali.hu': 6,\n",
       " 'portfolio.hu': 5,\n",
       " 'mte.hu': 5,\n",
       " 'hu.wikipedia.org': 5,\n",
       " 'pecsistop.hu': 5,\n",
       " 'magyarkozlony.hu': 5,\n",
       " 'vg.hu': 5,\n",
       " 'figyelo.hu': 5,\n",
       " 'spiegel.de': 4,\n",
       " 'hirado.hu': 4,\n",
       " 'fidesz.hu': 4,\n",
       " 'hirtv.hu': 4,\n",
       " 'qubit.hu': 4,\n",
       " 'docs.google.com': 4,\n",
       " 'pornhub.com': 4,\n",
       " 'mek.oszk.hu': 4,\n",
       " 'politico.eu': 4,\n",
       " 'welt.de': 4,\n",
       " 'nyugat.hu': 4}"
      ]
     },
     "execution_count": 9,
     "metadata": {},
     "output_type": "execute_result"
    }
   ],
   "source": [
    "dict(Counter(result_distinct).most_common(50))"
   ]
  },
  {
   "cell_type": "markdown",
   "metadata": {},
   "source": [
    "# Calculating the sum of references for each portal"
   ]
  },
  {
   "cell_type": "code",
   "execution_count": 10,
   "metadata": {},
   "outputs": [
    {
     "data": {
      "text/plain": [
       "{'alfahir.hu': 11522,\n",
       " '444.hu': 39086,\n",
       " '24.hu': 57915,\n",
       " 'hvg.hu': 80918,\n",
       " 'index.hu': 835445,\n",
       " 'kuruc.info': 28256,\n",
       " 'magyarhirlap.hu': 19996,\n",
       " 'magyarnemzet.hu': 45754,\n",
       " 'origo.hu': 58292,\n",
       " 'zsurpubi.hu': 2620}"
      ]
     },
     "execution_count": 10,
     "metadata": {},
     "output_type": "execute_result"
    }
   ],
   "source": [
    "reference_counter = {}\n",
    "for key in platform_count.keys():\n",
    "    summa = 0\n",
    "    for sub_key in platform_count[key]:\n",
    "        summa += platform_count[key][sub_key]\n",
    "    reference_counter[key] = summa\n",
    "reference_counter"
   ]
  },
  {
   "cell_type": "code",
   "execution_count": 11,
   "metadata": {},
   "outputs": [
    {
     "data": {
      "text/plain": [
       "{'24.hu': 32692,\n",
       " '444.hu': 16379,\n",
       " 'alfahir.hu': 8984,\n",
       " 'hvg.hu': 40600,\n",
       " 'index.hu': 52479,\n",
       " 'kuruc.info': 12913,\n",
       " 'magyarhirlap.hu': 23627,\n",
       " 'magyarnemzet.hu': 44321,\n",
       " 'origo.hu': 52168,\n",
       " 'zsurpubi.hu': 2929}"
      ]
     },
     "execution_count": 11,
     "metadata": {},
     "output_type": "execute_result"
    }
   ],
   "source": [
    "article_counter = df.groupby('platform')['index'].nunique().to_dict()\n",
    "article_counter"
   ]
  },
  {
   "cell_type": "code",
   "execution_count": 12,
   "metadata": {},
   "outputs": [
    {
     "data": {
      "text/plain": [
       "{'24.hu': 1.7715343203230147,\n",
       " '444.hu': 2.3863483729165393,\n",
       " 'alfahir.hu': 1.2825022261798753,\n",
       " 'hvg.hu': 1.9930541871921181,\n",
       " 'index.hu': 15.91960593761314,\n",
       " 'kuruc.info': 2.188182451792767,\n",
       " 'magyarhirlap.hu': 0.8463198882634274,\n",
       " 'magyarnemzet.hu': 1.0323323029715032,\n",
       " 'origo.hu': 1.1173899708633646,\n",
       " 'zsurpubi.hu': 0.8945032434277911}"
      ]
     },
     "execution_count": 12,
     "metadata": {},
     "output_type": "execute_result"
    }
   ],
   "source": [
    "ref_ratio = {}\n",
    "for portal in article_counter:\n",
    "    ref_ratio[portal] = reference_counter[portal] / article_counter[portal]\n",
    "ref_ratio"
   ]
  },
  {
   "cell_type": "code",
   "execution_count": 13,
   "metadata": {},
   "outputs": [],
   "source": [
    "reference_per_articles_ratios = pd.DataFrame.from_dict(ref_ratio, orient='index')"
   ]
  },
  {
   "cell_type": "markdown",
   "metadata": {},
   "source": [
    "# Önhivatkozás aránya"
   ]
  },
  {
   "cell_type": "code",
   "execution_count": 14,
   "metadata": {},
   "outputs": [],
   "source": [
    "platform_count = {}\n",
    "for platform in platforms:\n",
    "    hosts = df[df[\"platform\"] == platform][\"related_hosts\"]\n",
    "    result_distinct = list(x for l in hosts for x in l)\n",
    "    platform_count[platform] = dict(Counter(result_distinct))"
   ]
  },
  {
   "cell_type": "code",
   "execution_count": 15,
   "metadata": {},
   "outputs": [],
   "source": [
    "homophily_ratios = {}\n",
    "for portal in reference_counter:\n",
    "    homophily_ratios[portal] = platform_count[portal][portal] / reference_counter[portal]\n",
    "homophily_ratios = {k: v for k, v in sorted(homophily_ratios.items(), key=lambda item: item[1])}"
   ]
  },
  {
   "cell_type": "code",
   "execution_count": 16,
   "metadata": {},
   "outputs": [],
   "source": [
    "homophily_values = list(homophily_ratios.values())\n",
    "portal_names = list(homophily_ratios.keys())\n",
    "barWidth = 0.75"
   ]
  },
  {
   "cell_type": "code",
   "execution_count": 17,
   "metadata": {},
   "outputs": [
    {
     "data": {
      "image/png": "[encoded data removed]",
      "text/plain": [
       "<Figure size 432x288 with 1 Axes>"
      ]
     },
     "metadata": {
      "needs_background": "light"
     },
     "output_type": "display_data"
    }
   ],
   "source": [
    "fig = plt.figure()\n",
    "plt.bar(range(10), homophily_values, color='blue', edgecolor='white', width = barWidth)\n",
    "plt.bar(range(10), \n",
    "        [a_i - b_i for a_i, b_i in zip([1] * 10, homophily_values)], \n",
    "        bottom = homophily_values, \n",
    "        color='orange', \n",
    "        edgecolor='white', \n",
    "        width=barWidth)\n",
    "plt.xticks(range(10), portal_names)\n",
    "plt.xticks(rotation = 90)\n",
    "plt.title(\"Önhivatkozás aránya\")\n",
    "plt.tight_layout()\n",
    "fig.savefig('homophily_ratio.png', dpi = 2000)"
   ]
  },
  {
   "cell_type": "markdown",
   "metadata": {},
   "source": [
    "# A top 10 hivatkozás hány százalékot fed le az összesből"
   ]
  },
  {
   "cell_type": "code",
   "execution_count": 18,
   "metadata": {},
   "outputs": [],
   "source": [
    "platform_count_t10 = {}\n",
    "for platform in platforms:\n",
    "    hosts = df[df[\"platform\"] == platform][\"related_hosts\"]\n",
    "    result_distinct = list(x for l in hosts for x in l)\n",
    "    platform_count_t10[platform] = dict(Counter(result_distinct).most_common(10))"
   ]
  },
  {
   "cell_type": "code",
   "execution_count": 19,
   "metadata": {},
   "outputs": [],
   "source": [
    "top10_ratio = {}\n",
    "for platform in platform_count_t10:\n",
    "    summa = 0\n",
    "    for referee in platform_count_t10[platform]:\n",
    "        summa += platform_count_t10[platform][referee]\n",
    "    top10_ratio[platform] = summa / reference_counter[platform]\n",
    "top10_ratio = {k: v for k, v in sorted(top10_ratio.items(), key=lambda item: item[1])}"
   ]
  },
  {
   "cell_type": "code",
   "execution_count": 20,
   "metadata": {},
   "outputs": [
    {
     "data": {
      "image/png": "[encoded data removed]",
      "text/plain": [
       "<Figure size 432x288 with 1 Axes>"
      ]
     },
     "metadata": {
      "needs_background": "light"
     },
     "output_type": "display_data"
    }
   ],
   "source": [
    "fig = plt.figure()\n",
    "plt.bar(range(10), top10_ratio.values(), color='blue', edgecolor='white', width = barWidth)\n",
    "\n",
    "plt.xticks(range(10), top10_ratio.keys())\n",
    "plt.xticks(rotation = 90)\n",
    "plt.title(\"Top 10 hivatkozott domain aránya az összes hivatkozáshoz képest\")\n",
    "plt.tight_layout()\n",
    "fig.savefig('top10_ratio.png', dpi = 2000)"
   ]
  },
  {
   "cell_type": "markdown",
   "metadata": {},
   "source": [
    "# Hivatkozások fundamentális elemzése (top 10 hivatkozott per médium)"
   ]
  },
  {
   "cell_type": "code",
   "execution_count": 21,
   "metadata": {},
   "outputs": [],
   "source": [
    "import plotly.express as px\n",
    "import plotly.graph_objects as go"
   ]
  },
  {
   "cell_type": "code",
   "execution_count": null,
   "metadata": {},
   "outputs": [
    {
     "name": "stdout",
     "output_type": "stream",
     "text": [
      "alfahir.hu\n"
     ]
    }
   ],
   "source": [
    "platform_count_top10 = {}\n",
    "for platform in platforms:\n",
    "    hosts = df[df[\"platform\"] == platform][\"related_hosts\"]\n",
    "    result_distinct = list(x for l in hosts for x in l)\n",
    "    if platform != \"index.hu\":\n",
    "        print(platform)\n",
    "        platform_count_top10[platform] = dict(Counter(result_distinct).most_common(10))\n",
    "        platform_df = pd.DataFrame.from_dict(data = platform_count_top10[platform], \n",
    "                                             orient = 'index').reset_index().rename(columns = {0: \"ref_count\", \"index\": \"portal\"})\n",
    "        fig = go.Figure()\n",
    "        fig = px.bar(platform_df, x = \"ref_count\", y = \"portal\", orientation='h')\n",
    "        fig.update_layout(\n",
    "            title = f\"{platform} top 10 hivatkozása\",\n",
    "            xaxis_title = \"Hivatkozások száma\",\n",
    "            yaxis_title = \"Hivatkozott weboldal\"\n",
    "        )\n",
    "        fig.write_image(f\"top10_{platform}.png\")\n",
    "        #fig.show()\n",
    "    else:\n",
    "        platform_count_top10[platform] = dict(Counter(result_distinct).most_common(12))\n",
    "        #print(platform_count_top15.keys())\n",
    "        del platform_count_top10[platform]['thesmokinggun.com']\n",
    "        del platform_count_top10[platform]['ajanlat.indamediasales.hu']\n",
    "        platform_df = pd.DataFrame.from_dict(data = platform_count_top10[platform], \n",
    "                                             orient = 'index').reset_index().rename(columns = {0: \"ref_count\", \"index\": \"portal\"})\n",
    "        fig = go.Figure()\n",
    "        fig = px.bar(platform_df, x = \"ref_count\", y = \"portal\", orientation='h')\n",
    "        fig.update_layout(\n",
    "            title = f\"{platform} top 10 hivatkozása\",\n",
    "            xaxis_title = \"Hivatkozások száma\",\n",
    "            yaxis_title = \"Hivatkozott weboldal\"\n",
    "        )\n",
    "        fig.write_image(f\"top10_{platform}.png\")\n",
    "        fig.show()"
   ]
  },
  {
   "cell_type": "code",
   "execution_count": null,
   "metadata": {},
   "outputs": [],
   "source": []
  },
  {
   "cell_type": "code",
   "execution_count": null,
   "metadata": {},
   "outputs": [],
   "source": []
  },
  {
   "cell_type": "code",
   "execution_count": null,
   "metadata": {},
   "outputs": [],
   "source": []
  },
  {
   "cell_type": "code",
   "execution_count": null,
   "metadata": {},
   "outputs": [],
   "source": []
  },
  {
   "cell_type": "code",
   "execution_count": null,
   "metadata": {},
   "outputs": [],
   "source": []
  },
  {
   "cell_type": "code",
   "execution_count": null,
   "metadata": {},
   "outputs": [],
   "source": []
  },
  {
   "cell_type": "code",
   "execution_count": null,
   "metadata": {},
   "outputs": [],
   "source": []
  },
  {
   "cell_type": "code",
   "execution_count": null,
   "metadata": {},
   "outputs": [],
   "source": []
  },
  {
   "cell_type": "code",
   "execution_count": null,
   "metadata": {},
   "outputs": [],
   "source": [
    "categories = {\n",
    "    \"alfahir.hu\": \"szelsojobb\",\n",
    "    \"MTI\": \"MTI\",\n",
    "    \"twitter.com\": \"kozossegi\",\n",
    "    \"facebook.com\": \"kozossegi\",\n",
    "    \"index.hu\": \"balos\",\n",
    "    \"444.hu\": \"balos\",\n",
    "    \"24.hu\": \"balos\",\n",
    "    \"hvg.hu\": \"balos\",\n",
    "    \"nepszava.hu\": \"balos\",\n",
    "    \"parlament.hu\": \"szerv\",\n",
    "    \"youtube.com\": \"kozossegi\",\n",
    "    \"bbc.com\": \"kulfoldi\",\n",
    "    \"theguardian.com\": \"kulfoldi\",\n",
    "    \"streamable.com\": \"kozossegi\",\n",
    "    \"instagram.com\": \"kozossegi\",\n",
    "    \"police.hu\": \"szerv\",\n",
    "    \"edition.cnn.com\": \"kulfoldi\",\n",
    "    \"thesmokinggun.com\": \"kulfoldi\",\n",
    "    \"ajanlat.indamediasales.hu\": \"kozossegi\",\n",
    "    \"kuruc.info\": \"szelsojobb\",\n",
    "    \"magyarharcos.hu\": \"szelsojobb\",\n",
    "    \"en.wikipedia.org\": \"MTI\",\n",
    "    \"turania.hu\": \"szelsojobb\",\n",
    "    \"magyarhirlap.hu\": \"kormany\",\n",
    "    None: \"kozossegi\",\n",
    "    \"budapestpark.hu\": \"kozossegi\",\n",
    "    \"mnb.hu\": \"szerv\",\n",
    "    \"valasztas.hu\": \"szerv\",\n",
    "    \"politico.eu\": \"kulfoldi\",\n",
    "    \"magyarnemzet.hu\": \"kormany\",\n",
    "    \"hirtv.hu\": \"kormany\",\n",
    "    \"echotv.hu\": \"kormany\",\n",
    "    \"origo.hu\": \"kormany\",\n",
    "    \"tuzfalcsoport.blogstar.hu\": \"kormany\",\n",
    "    \"pestisracok.hu\": \"kormany\",\n",
    "    \"hirado.hu\": \"kormany\",\n",
    "    \"katasztrofavedelem.hu\": \"szerv\",\n",
    "    \"borsonline.hu\": \"kozossegi\",\n",
    "    \"zsurpubi.hu\": \"szelsojobb\"\n",
    "}"
   ]
  },
  {
   "cell_type": "code",
   "execution_count": null,
   "metadata": {},
   "outputs": [],
   "source": [
    "category_colour = {\"szelsojobb\": \"Black\",\n",
    "                  \"kozossegi\": \"Blue\",\n",
    "                  \"kormany\": \"DarkOrange\",\n",
    "                  \"szerv\": \"Gray\",\n",
    "                  \"MTI\": \"LightSkyBlue\",\n",
    "                  \"balos\": \"MediumPurple\",\n",
    "                  \"kulfoldi\": \"Red\"}"
   ]
  },
  {
   "cell_type": "code",
   "execution_count": null,
   "metadata": {},
   "outputs": [],
   "source": [
    "platform_count = {}\n",
    "for platform in platforms:\n",
    "    hosts = df[df[\"platform\"] == platform][\"related_hosts\"]\n",
    "    result_distinct = list(x for l in hosts for x in l)\n",
    "    platform_count[platform] = dict(Counter(result_distinct).most_common(10))"
   ]
  },
  {
   "cell_type": "code",
   "execution_count": null,
   "metadata": {},
   "outputs": [],
   "source": [
    "exluded_portals = [None,\n",
    "                  \"budapestpark.hu\",\n",
    "                  \"ajanlat.indamediasales.hu\",\n",
    "                  \"thesmokinggun.com\",\n",
    "                  \"streamable.com\"]"
   ]
  },
  {
   "cell_type": "code",
   "execution_count": null,
   "metadata": {},
   "outputs": [],
   "source": [
    "import plotly.graph_objects as go\n",
    "import networkx as nx\n",
    "\n",
    "# G = nx.random_geometric_graph(200, 0.125)\n",
    "# G.clear()\n",
    "G = nx.DiGraph()\n",
    "#G.add_edge(\"magyarnemzet\", \"index\", weight = 50)\n",
    "#G.add_edge(\"zsurpubi\", \"index\", weight = 100)\n",
    "#G.add_edge(\"888\", \"index\", weight = 10)\n",
    "#G.add_edge(\"magyaridok\", \"index\", weight = 50)\n",
    "#G.add_edge(\"origo\", \"index\", weight = 50)\n",
    "#G.add_edge(\"24hu\", \"index\", weight = 10)\n",
    "#G.add_edge(\"alfahir\", \"index\", weight = 80)\n",
    "#G.add_edge(\"kurucinfo\", \"index\", weight = 50)\n",
    "\n",
    "#G.add_edge(\"magyarnemzet\", \"origo\", weight = 50)\n",
    "#G.add_edge(\"zsurpubi\", \"origo\", weight = 100)\n",
    "#G.add_edge(\"888\", \"origo\", weight = 10)\n",
    "#G.add_edge(\"magyaridok\", \"origo\", weight = 50)\n",
    "#G.add_edge(\"index\", \"origo\", weight = 50)\n",
    "#G.add_edge(\"24hu\", \"origo\", weight = 10)\n",
    "#G.add_edge(\"alfahir\", \"origo\", weight = 80)\n",
    "#G.add_edge(\"kurucinfo\", \"origo\", weight = 50)\n",
    "\n",
    "for key in list(platform_dict.values()):\n",
    "    for portal in platform_count[key]:\n",
    "        if portal not in exluded_portals:\n",
    "            G.add_edge(portal, key, weight = platform_count[key][portal])\n",
    "#G.add_edge(\"vmi3\", \"vmi2\")\n",
    "#G.add_edge(\"vmi4\", \"vmi2\")\n",
    "#G.add_edge(\"vmi4\", \"vmi1\")"
   ]
  },
  {
   "cell_type": "code",
   "execution_count": null,
   "metadata": {},
   "outputs": [],
   "source": [
    "edge_x = []\n",
    "edge_y = []\n",
    "pos = nx.circular_layout(G) # random_layout(G)\n",
    "for edge in G.edges():\n",
    "    x0, y0 = pos[edge[0]] #G.nodes[edge[0]]['pos']\n",
    "    x1, y1 = pos[edge[1]] #G.nodes[edge[1]]['pos']\n",
    "    edge_x.append(x0)\n",
    "    edge_x.append(x1)\n",
    "    edge_x.append(None)\n",
    "    edge_y.append(y0)\n",
    "    edge_y.append(y1)\n",
    "    edge_y.append(None)\n",
    "\n",
    "edge_trace = go.Scatter(\n",
    "    x = edge_x, y = edge_y,\n",
    "    line=dict(width = 1, color='#888'),\n",
    "    hoverinfo='none',\n",
    "    mode='lines')\n",
    "\n",
    "node_x = []\n",
    "node_y = []\n",
    "\n",
    "for node in G.nodes():\n",
    "    x, y = pos[node]\n",
    "    node_x.append(x)\n",
    "    node_y.append(y)\n",
    "\n",
    "node_trace = go.Scatter(\n",
    "    x = node_x, \n",
    "    y = node_y,\n",
    "    mode='markers',\n",
    "    hoverinfo='text',\n",
    "    showlegend = True \n",
    ")"
   ]
  },
  {
   "cell_type": "code",
   "execution_count": null,
   "metadata": {},
   "outputs": [],
   "source": [
    "for node, ajd in enumerate(G.adjacency()):\n",
    "    print(ajd)"
   ]
  },
  {
   "cell_type": "code",
   "execution_count": null,
   "metadata": {},
   "outputs": [],
   "source": [
    "# Node size set according to weights\n",
    "node_adjacencies = []\n",
    "node_text = []\n",
    "node_sizes = []\n",
    "colours = []\n",
    "for node, adjacencies in enumerate(G.adjacency()):\n",
    "    node_size = sum([x[\"weight\"] for x in adjacencies[1].values()])\n",
    "    node_sizes.append(np.log(node_size) * 5)\n",
    "    node_text.append({adjacencies[0]: node_size})\n",
    "    colours.append(category_colour[categories[adjacencies[0]]])\n",
    "    #node_adjacencies.append(len(adjacencies[1]))\n",
    "    #node_text.append('# of connections: '+str(len(adjacencies[1])))\n",
    "    \n",
    "node_trace.marker.color = colours # node_sizes # Setting the colour according to size of node\n",
    "node_trace.text = node_text\n",
    "node_trace.marker.size = node_sizes"
   ]
  },
  {
   "cell_type": "code",
   "execution_count": null,
   "metadata": {},
   "outputs": [],
   "source": [
    "go.Scatter(\n",
    "    y = np.random.randn(500),\n",
    "    mode='markers',\n",
    "    marker=dict(\n",
    "        size=16,\n",
    "        color=np.random.randn(500), #set color equal to a variable\n",
    "        colorscale='Viridis', # one of plotly colorscales\n",
    "        showscale=True\n",
    "    ))"
   ]
  },
  {
   "cell_type": "code",
   "execution_count": null,
   "metadata": {},
   "outputs": [],
   "source": [
    "node_trace.marker.showscale = True"
   ]
  },
  {
   "cell_type": "code",
   "execution_count": null,
   "metadata": {},
   "outputs": [],
   "source": [
    "node_trace"
   ]
  },
  {
   "cell_type": "code",
   "execution_count": null,
   "metadata": {},
   "outputs": [],
   "source": [
    "go.Figure(data = node_trace, layout = go.Layout(legend = dict(x = 0.2, y = 0.5)))"
   ]
  },
  {
   "cell_type": "markdown",
   "metadata": {},
   "source": [
    "## Setting node size according to degree size\n",
    "d = nx.degree(G)\n",
    "node_sizes = []\n",
    "for i in d:\n",
    "    _, value = i\n",
    "    node_sizes.append(3 * value + 15)"
   ]
  },
  {
   "cell_type": "code",
   "execution_count": null,
   "metadata": {
    "scrolled": false
   },
   "outputs": [],
   "source": [
    "fig = go.Figure(data=[edge_trace, node_trace],\n",
    "             layout=go.Layout(\n",
    "                title='Network map of Hungarian News portals',\n",
    "                titlefont_size=16,\n",
    "                showlegend=False,\n",
    "                hovermode='closest',\n",
    "                margin=dict(b=20,l=5,r=5,t=40),\n",
    "                annotations=[dict(\n",
    "                    showarrow=False,\n",
    "                    xref=\"paper\", yref=\"paper\",\n",
    "                    x=0.005, y=-0.002 ) ],\n",
    "                xaxis=dict(showgrid=False, zeroline=False, showticklabels=False),\n",
    "                yaxis=dict(showgrid=False, zeroline=False, showticklabels=False))\n",
    "                )\n",
    "fig.show()\n",
    "fig.write_image(\"network_graph.png\")"
   ]
  },
  {
   "cell_type": "code",
   "execution_count": null,
   "metadata": {},
   "outputs": [],
   "source": []
  }
 ],
 "metadata": {
  "kernelspec": {
   "display_name": "Python 3",
   "language": "python",
   "name": "python3"
  },
  "language_info": {
   "codemirror_mode": {
    "name": "ipython",
    "version": 3
   },
   "file_extension": ".py",
   "mimetype": "text/x-python",
   "name": "python",
   "nbconvert_exporter": "python",
   "pygments_lexer": "ipython3",
   "version": "3.7.6"
  }
 },
 "nbformat": 4,
 "nbformat_minor": 2
}
